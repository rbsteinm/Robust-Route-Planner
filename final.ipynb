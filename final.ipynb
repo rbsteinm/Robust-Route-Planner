{
 "cells": [
  {
   "cell_type": "markdown",
   "metadata": {},
   "source": [
    "# Lab in Data Science: Final Project\n",
    "\n",
    "Pierre Fouche, Matthias Leroy and Raphaël Steinmann\n",
    "\n",
    "## Abstract\n",
    "\n",
    "The goal of this project is to build a robust route planner that computes the shortest path between two public transport stops, taking into account not only the time of each route, but also its 'safety', i.e. considering the possibility of missing a connection if a transport is late compared to the schedule.\n",
    "\n",
    "To address this problem, we designed and implemented a robust route planning algorithm that, based on predictions made from historical public transports data, predicts not only the fastest route from one stop to another, but also some alternative routes that are safer but might take more time.\n",
    "\n",
    "We used data from SBB/CFF in the Zürich area to build our project. It consists of:\n",
    "- Modeling the public transport infrastructure for the route planning algorithm,\n",
    "- Building a predictive model using historical arrival/departure time data for the public transport network,\n",
    "- Implement a robust route planning algorithm using this predictive model,\n",
    "- Implement a method to test and validate our results,\n",
    "- Implement a web visualization to demonstrate our method."
   ]
  },
  {
   "cell_type": "markdown",
   "metadata": {},
   "source": [
    "## Imports"
   ]
  },
  {
   "cell_type": "code",
   "execution_count": 1,
   "metadata": {
    "collapsed": true
   },
   "outputs": [],
   "source": [
    "import getpass\n",
    "import pyspark\n",
    "from datetime import datetime,timedelta\n",
    "from pyspark.sql import SparkSession\n",
    "import pyspark.sql.functions as functions\n",
    "from pyspark.sql.types import BooleanType, FloatType\n",
    "from pyspark.sql.window import Window\n",
    "import math\n",
    "import helpers, spark_helpers\n",
    "import pickle\n",
    "import random\n",
    "import numpy as np\n",
    "import pandas as pd\n",
    "import functools\n",
    "import copy\n",
    "from sklearn.linear_model import LinearRegression\n",
    "\n",
    "\n",
    "ZH_HB_ID = 8503000\n",
    "\n",
    "%load_ext autoreload\n",
    "%autoreload 2"
   ]
  },
  {
   "cell_type": "markdown",
   "metadata": {},
   "source": [
    "## Initialize the `SparkSession`"
   ]
  },
  {
   "cell_type": "code",
   "execution_count": 2,
   "metadata": {},
   "outputs": [
    {
     "data": {
      "text/html": [
       "\n",
       "        <div>\n",
       "            <p><b>SparkContext</b></p>\n",
       "\n",
       "            <p><a href=\"http://10.90.38.21:4051\">Spark UI</a></p>\n",
       "\n",
       "            <dl>\n",
       "              <dt>Version</dt>\n",
       "                <dd><code>v2.2.0.2.6.4.0-91</code></dd>\n",
       "              <dt>Master</dt>\n",
       "                <dd><code>yarn</code></dd>\n",
       "              <dt>AppName</dt>\n",
       "                <dd><code>project-rbsteinm</code></dd>\n",
       "            </dl>\n",
       "        </div>\n",
       "        "
      ],
      "text/plain": [
       "<SparkContext master=yarn appName=project-rbsteinm>"
      ]
     },
     "execution_count": 2,
     "metadata": {},
     "output_type": "execute_result"
    }
   ],
   "source": [
    "conf = pyspark.conf.SparkConf()\n",
    "conf.setMaster('yarn')\n",
    "conf.setAppName('project-{0}'.format(getpass.getuser()))\n",
    "conf.set('spark.executor.memory', '6g')\n",
    "conf.set('spark.executor.instances', '6')\n",
    "conf.set('spark.port.maxRetries', '100')\n",
    "sc = pyspark.SparkContext.getOrCreate(conf)\n",
    "conf = sc.getConf()\n",
    "sc"
   ]
  },
  {
   "cell_type": "code",
   "execution_count": 3,
   "metadata": {
    "collapsed": true
   },
   "outputs": [],
   "source": [
    "# init spark session\n",
    "spark = SparkSession(sc)"
   ]
  },
  {
   "cell_type": "markdown",
   "metadata": {
    "collapsed": true
   },
   "source": [
    "## Data Processing"
   ]
  },
  {
   "cell_type": "markdown",
   "metadata": {},
   "source": [
    "### Cleaning metadata\n",
    "First, let's clean the metadata dataframe. We will use the SBB data limited around the Zurich area. We will focus on all the stops within 10km of the Zurich train station. Let's get rid of all the stations that are too far away from Zurich and dump the metadata (stations ID, name and coordinates) in a pickle:"
   ]
  },
  {
   "cell_type": "code",
   "execution_count": 4,
   "metadata": {
    "collapsed": true
   },
   "outputs": [],
   "source": [
    "# load metadata\n",
    "raw_metadata = spark.read.load('/datasets/project/metadata', format='com.databricks.spark.csv', header='false', sep='\\\\t')\n",
    "\n",
    "# remove multiple spaces\n",
    "metadata = raw_metadata.withColumn('_c0', functions.regexp_replace(raw_metadata._c0, '\\s+', ' '))\n",
    "# split into columns\n",
    "metadata = metadata.withColumn('name', functions.split(metadata._c0, '%')[1])\n",
    "for (name, index, type_) in [('station_ID',0, 'int'), ('long',1, 'double'), ('lat',2, 'double'), ('height',3, 'int')]:\n",
    "    metadata = metadata.withColumn(name, functions.split(metadata._c0, ' ')[index].cast(type_))\n",
    "# remove useless column\n",
    "metadata = metadata.drop('_c0')\n",
    "# trim name column to remove left/right blank\n",
    "metadata = metadata.withColumn('name', functions.trim(metadata.name))\n",
    "\n",
    "# coordinates of Zürich main train station\n",
    "lat_zurich = 47.3782\n",
    "long_zurich = 8.5402\n",
    "\n",
    "# convert to pandas dataframe\n",
    "pandas_df = metadata.toPandas()\n",
    "\n",
    "# keep only the stops that are located < 10km from Zurich HB\n",
    "pandas_df['distance_to_zh'] = pandas_df.apply(lambda x: helpers.distance(x['long'], x['lat'], long_zurich, lat_zurich), axis=1)\n",
    "pandas_df = pandas_df[pandas_df['distance_to_zh'] < 10]\n",
    "\n",
    "# recreate spark dataframe from pandas dataframe\n",
    "metadata = spark.createDataFrame(pandas_df)\n",
    "# create dict of stations from pandas dataframe\n",
    "stations = pandas_df.set_index('station_ID').to_dict('index')\n",
    "\n",
    "# dump metadata in pickle\n",
    "with open('./data/metadata.pickle', 'wb') as handle:\n",
    "    pickle.dump(stations, handle, protocol=pickle.HIGHEST_PROTOCOL)"
   ]
  },
  {
   "cell_type": "code",
   "execution_count": 5,
   "metadata": {
    "collapsed": true
   },
   "outputs": [],
   "source": [
    "# load metadata from pickle\n",
    "with open('./data/metadata.pickle', 'rb') as handle:\n",
    "    stations = pickle.load(handle)"
   ]
  },
  {
   "cell_type": "markdown",
   "metadata": {},
   "source": [
    "### Cleaning main dataset\n",
    "Here we only filter out the columns of the data that we don't need. We also add a column that contains the index of the weekday and do some rudimentary data cleaning."
   ]
  },
  {
   "cell_type": "code",
   "execution_count": 6,
   "metadata": {
    "collapsed": true
   },
   "outputs": [],
   "source": [
    "# load full data\n",
    "raw_df = spark.read.load('/datasets/project/istdaten/*/*', format='csv', header='true', inferSchema='true', sep=';')\n",
    "# load sample data\n",
    "# raw_df = spark.read.load('/datasets/project/istdaten/2018/01', format='csv', header='true', inferSchema='true', sep=';')"
   ]
  },
  {
   "cell_type": "code",
   "execution_count": 7,
   "metadata": {
    "collapsed": true
   },
   "outputs": [],
   "source": [
    "# rename the fields german -> english\n",
    "fields = {\n",
    "    'BETRIEBSTAG':'date',\n",
    "    'FAHRT_BEZEICHNER':'trip_id',\n",
    "    'PRODUKT_ID':'transport_type',\n",
    "    'LINIEN_ID':'train_id',\n",
    "    'LINIEN_TEXT':'line',\n",
    "    'VERKEHRSMITTEL_TEXT':'train_type',\n",
    "    'ZUSATZFAHRT_TF':'additional_trip',\n",
    "    'FAELLT_AUS_TF':'trip_failed',\n",
    "    'HALTESTELLEN_NAME':'stop_name',\n",
    "    'BPUIC':'stop_id',\n",
    "    'ANKUNFTSZEIT':'schedule_arrival',\n",
    "    'AN_PROGNOSE':'real_arrival',\n",
    "    'AN_PROGNOSE_STATUS':'arr_forecast_status',\n",
    "    'ABFAHRTSZEIT':'schedule_dep',\n",
    "    'AB_PROGNOSE':'real_dep',\n",
    "    'AB_PROGNOSE_STATUS':'dep_forecast_status',\n",
    "    'DURCHFAHRT_TF':'no_stop_here'\n",
    "}\n",
    "\n",
    "df = raw_df.selectExpr([k + ' as ' + fields[k] for k in fields])"
   ]
  },
  {
   "cell_type": "code",
   "execution_count": 8,
   "metadata": {
    "collapsed": true
   },
   "outputs": [],
   "source": [
    "# refactor dates\n",
    "df = df.withColumn('date', functions.from_unixtime(functions.unix_timestamp('date', 'dd.MM.yyyy')))\n",
    "df = df.withColumn('schedule_arrival', functions.from_unixtime(functions.unix_timestamp('schedule_arrival', 'dd.MM.yyyy HH:mm')))\n",
    "df = df.withColumn('real_arrival', functions.from_unixtime(functions.unix_timestamp('real_arrival', 'dd.MM.yyyy HH:mm')))\n",
    "df = df.withColumn('schedule_dep', functions.from_unixtime(functions.unix_timestamp('schedule_dep', 'dd.MM.yyyy HH:mm')))\n",
    "df = df.withColumn('real_dep', functions.from_unixtime(functions.unix_timestamp('real_dep', 'dd.MM.yyyy HH:mm')))"
   ]
  },
  {
   "cell_type": "code",
   "execution_count": 9,
   "metadata": {
    "collapsed": true
   },
   "outputs": [],
   "source": [
    "# add a column containing the weekday (monday=1, sunday=6)\n",
    "df = df.withColumn('weekday', spark_helpers.get_weekday(df.date))\n",
    "\n",
    "# keep only the rows with stops near zurich\n",
    "df = df.where(df.stop_id.isin([int(x) for x in list(pandas_df.station_ID.unique())]))\n",
    "\n",
    "# there is still 51'571'541 rows in zurich area\n",
    "# df.count()\n",
    "\n",
    "# keep only date after the 10th of december, because the schedule changed\n",
    "df = df.where(df.date > '2017-12-10 00:00:00')\n",
    "\n",
    "# discard the rows when there is no stop here\n",
    "df2 = df.where(df.no_stop_here == 'false')\n",
    "\n",
    "# discard ill-formated rows where the train leaves a station before arriving in it\n",
    "df2 = df2.where((df2.schedule_dep >= df2.schedule_arrival) | functions.col('schedule_arrival').isNull() | functions.col('schedule_dep').isNull())"
   ]
  },
  {
   "cell_type": "markdown",
   "metadata": {},
   "source": [
    "## Modeling the network\n",
    "The first step is to model the network. In the original data from the SBB, each row represents a stop of a given vehicle at a given stop, date and arrival/departure time. In order to model the network (i.e. the course and schedules of each line), we would like to tweak the data such that each row represent not a stop but an edge from stop A to stop B, with departure time (from A) and arrival time (to B).\n",
    "\n",
    "### From stops to edges\n",
    "Here is how we proceeded to achieve this configuration:\n",
    "- group the data first by ```trip_id``` and order it by time\n",
    "- duplicate each column *C* of the dataframe and append  the copy to the dataframe as *next_C*\n",
    "- using a window, shift up all the *next* columns of one row. This way, each row contains as *next* data the data of the row below\n",
    "\n",
    "Since the rows are ordered by ```trip_id``` and ordered by time, each row is the next stop of the row above. The partitioning of the window function and the ```edge_is_valid``` udf function ensure that we discard unwanted rows."
   ]
  },
  {
   "cell_type": "code",
   "execution_count": 10,
   "metadata": {
    "collapsed": true
   },
   "outputs": [],
   "source": [
    "# create a column with the schedule time that will be used to build the network\n",
    "df2 = df2.withColumn('schedule_time', spark_helpers.date_choice(df2.schedule_arrival, df2.schedule_dep))\n",
    "#df2 = df2.withColumn('schedule_time', functions.from_unixtime(functions.unix_timestamp('schedule_time', 'dd.MM.yyyy HH:mm')))\n",
    "\n",
    "# create a column that tells if a stop is the first/last one of its trip or in the middle\n",
    "df2 = df2.withColumn('stop_type', spark_helpers.stop_type(df2.schedule_dep, df2.schedule_arrival))"
   ]
  },
  {
   "cell_type": "code",
   "execution_count": 11,
   "metadata": {
    "collapsed": true
   },
   "outputs": [],
   "source": [
    "trips = df2.select(['trip_id', 'date', 'schedule_time', 'stop_id', 'stop_type', 'schedule_arrival', 'schedule_dep', 'line', 'transport_type', 'train_type', 'arr_forecast_status', 'weekday', 'real_arrival']).orderBy(['trip_id', 'schedule_time'], ascending=[0,0])"
   ]
  },
  {
   "cell_type": "code",
   "execution_count": 12,
   "metadata": {
    "collapsed": true,
    "scrolled": true
   },
   "outputs": [],
   "source": [
    "# duplicate the dataframe, shift the copy of one row and append it to the original\n",
    "# this way, we have for each row the current stop and the next stop\n",
    "w = Window().partitionBy(functions.col('trip_id')).orderBy(functions.col('trip_id'))\n",
    "trips2 = trips.select(\"*\", functions.lag(\"trip_id\").over(w).alias(\"next_tid\"))\n",
    "trips2 = trips2.select(\"*\", functions.lag(\"schedule_time\").over(w).alias(\"next_time\"))\n",
    "trips2 = trips2.select(\"*\", functions.lag(\"stop_id\").over(w).alias(\"next_sid\"))\n",
    "trips2 = trips2.select(\"*\", functions.lag(\"stop_type\").over(w).alias(\"next_type\"))\n",
    "trips2 = trips2.select(\"*\", functions.lag(\"schedule_arrival\").over(w).alias(\"next_sched_arr\"))\n",
    "trips2 = trips2.select(\"*\", functions.lag(\"schedule_dep\").over(w).alias(\"next_sched_dep\"))\n",
    "trips2 = trips2.select(\"*\", functions.lag(\"arr_forecast_status\").over(w).alias(\"next_arr_forecast_status\"))\n",
    "trips2 = trips2.select(\"*\", functions.lag(\"real_arrival\").over(w).alias(\"next_real_arrival\"))\n",
    "\n",
    "# since we shift columns, there is one row to remove per partition\n",
    "trips2 = trips2.where(trips2.next_time.isNotNull())"
   ]
  },
  {
   "cell_type": "code",
   "execution_count": 13,
   "metadata": {
    "collapsed": true
   },
   "outputs": [],
   "source": [
    "# create a new column telling if the edge is valid or not\n",
    "# (i.e. if the stop and next stop are really part of the same ride)\n",
    "trips3 = trips2.withColumn('is_valid', spark_helpers.edge_is_valid(trips2.trip_id, trips2.schedule_time, trips2.stop_id, trips2.stop_type, trips2.next_tid, trips2.next_time, trips2.next_sid, trips2.next_type, trips2.schedule_dep,trips2.next_sched_arr))\n",
    "\n",
    "# keep only valid edges\n",
    "trips4 = trips3.filter(trips3.is_valid=='true')"
   ]
  },
  {
   "cell_type": "markdown",
   "metadata": {},
   "source": [
    "### For each day of the week, model the network\n",
    "Now that the data has a more conveniant format, we can model the network. After doing some research and for obvious performance issues, we make the following assumption:\n",
    "***The schedule repeats every week.***\n",
    "\n",
    "This assumption allows us to build only seven network models, one per weekday. To do that, we selected a typical week with no days off or unusual schedules (15-21 january 2018). Note also that we took the liberty of discarding all data from before the 10th of december since the SBB changed their schedules for the entire network on this date.\n",
    "\n",
    "The network for a single weekday is organized as an adjacency list. the outermost python dictionary contains as keys the departure stops ```A```. For each departure stop, the associated value is a second dictionary whose keys are the arrival stop ```B``` of the edge. The value of the second dictionary consists of a list of tuples. Each tuple represents a trip from ```A``` to ```B```, with a departure/arrival time, the trip ID and the line. In other words, the data is organised as follows:\n",
    "\n",
    "```models['monday'] = {stopA: {stopB: [(dep_time, arr_time, trip_id, line), (...)]}}```"
   ]
  },
  {
   "cell_type": "code",
   "execution_count": 14,
   "metadata": {
    "collapsed": true
   },
   "outputs": [],
   "source": [
    "# we chose the week of the 15-21 january 2018 as a typical week\n",
    "typical_week = ['2018-01-' + str(x) + ' 00:00:00' for x in range(15,22)]"
   ]
  },
  {
   "cell_type": "code",
   "execution_count": 15,
   "metadata": {
    "collapsed": true,
    "scrolled": false
   },
   "outputs": [],
   "source": [
    "regenerate_models = False\n",
    "days_names = ['monday','tuesday','wednesday','thursday','friday','saturday','sunday']\n",
    "\n",
    "# generate one network for each weekday and store them in pickles\n",
    "if regenerate_models:\n",
    "    for (date, day_name) in zip(typical_week, days_names):\n",
    "        network = (helpers.model_network(trips4, date))\n",
    "        with open('./data/'+day_name+'.pickle', 'wb') as handle:\n",
    "            helpers.network_to_datetime(network) # works inplace\n",
    "            pickle.dump(network, handle, protocol=pickle.HIGHEST_PROTOCOL)\n",
    "        print(str(day_name) + ' done')"
   ]
  },
  {
   "cell_type": "code",
   "execution_count": 16,
   "metadata": {},
   "outputs": [
    {
     "name": "stdout",
     "output_type": "stream",
     "text": [
      "monday loaded\n",
      "tuesday loaded\n",
      "wednesday loaded\n",
      "thursday loaded\n",
      "friday loaded\n",
      "saturday loaded\n",
      "sunday loaded\n"
     ]
    }
   ],
   "source": [
    "# load the networks from the pickles\n",
    "models = []\n",
    "for day in days_names:\n",
    "    with open('./data/'+ day +'.pickle', 'rb') as handle:\n",
    "        network = pickle.load(handle)\n",
    "    models.append(network)\n",
    "    print(day + ' loaded')"
   ]
  },
  {
   "cell_type": "markdown",
   "metadata": {},
   "source": [
    "### Compute walking network\n",
    "In addition to the public transports network, one must consider that some trips include to walk between two neighbouring stops. To take this into account, we also modeled a walking network, containing for each pair of stations (located at most at 500m from oneanother) the walking time between them. To simplify the problem, we made the assumption that people always walk in straight lines between stations, at a constant speed of 5km/h."
   ]
  },
  {
   "cell_type": "code",
   "execution_count": 17,
   "metadata": {},
   "outputs": [
    {
     "name": "stdout",
     "output_type": "stream",
     "text": [
      "walking network loaded\n"
     ]
    }
   ],
   "source": [
    "# compute walking network\n",
    "walking_network = helpers.compute_walking_network(stations)\n",
    "print('walking network loaded')"
   ]
  },
  {
   "cell_type": "markdown",
   "metadata": {},
   "source": [
    "## Predictive model :\n",
    "\n",
    "In this part we are going to build a preditive model using historical arrival/departure time data. Thus, our goal is to predict an uncertainty or certainty rate of taking a transport change with success, and finally to spread it for a whole journey using a route planning algorithm explained in the next section.\n",
    "\n",
    "### 1) Processing the datas :\n",
    "\n",
    "First of all, we have to group the data that match (same trip between two transport stations at the same schedule), and to compute the delay for the trips where the historical time was measured."
   ]
  },
  {
   "cell_type": "code",
   "execution_count": 18,
   "metadata": {
    "collapsed": true
   },
   "outputs": [],
   "source": [
    "# We drop what we do not need for the prediction\n",
    "trips5 = trips4.drop('stop_type', 'next_type', 'is_valid', 'arr_forcast_status', \n",
    "                     'schedule_time', 'schedule_arrival', 'next_sched_dep', \n",
    "                     'next_time', 'next_tid', 'real_arrival', 'arr_forecast_status')\n",
    "\n",
    "trips5 = trips5.na.fill(\"temp 00:00:00\")\n",
    "\n",
    "# We refactor the dates by keeping only the time of the day and not the entire day\n",
    "trips5 = trips5.withColumn('schedule_dep', spark_helpers.keep_time(trips5.schedule_dep))\n",
    "trips5 = trips5.withColumn('next_sched_arr', spark_helpers.keep_time(trips5.next_sched_arr))\n",
    "trips5 = trips5.withColumn('next_real_arrival', spark_helpers.keep_time(trips5.next_real_arrival))\n",
    "\n",
    "# We compute the arrival delay of each stop station\n",
    "df3 = trips5.withColumn(\"delay_arrival\", \n",
    "                     functions.unix_timestamp('next_real_arrival', 'HH:mm:ss') -\n",
    "                     functions.unix_timestamp('next_sched_arr', 'HH:mm:ss'))\n",
    "\n",
    "create_rush = functions.udf(helpers.rush_inter)\n",
    "group_weekday = functions.udf(helpers.group_weekday_py)\n",
    "\n",
    "# We create time interval in order to differentiate rush hour and other time of the day\n",
    "# We have to try different combinations of interval time (that gave best prediction)\n",
    "df3 = df3.withColumn('arrival_interval', create_rush(df3.next_sched_arr))\n",
    "# We also gather the week day in 4 buckets (Wednesnay, Saturday and Sunday separatly and the other days together)\n",
    "df3 = df3.withColumn('weekday', group_weekday(df3.next_sched_arr))\n",
    "\n",
    "# We create a dataframe where we only keep the rows where there is a real arrival time\n",
    "arrival_df1 = df3.filter(df3.next_arr_forecast_status == \"GESCHAETZT\")\n",
    "arrival_df1 = arrival_df1.drop('next_arr_forecast_status')\n",
    "\n",
    "# arrival_df.groupby('transport_type').count().show()"
   ]
  },
  {
   "cell_type": "markdown",
   "metadata": {},
   "source": [
    "We have noticed that only the trains are concerned with historical time data, thus we were able to compute the delay only for those trips. Moreover we only had 1 millions rows of evaluated time on the 30 millions trips that we have. \n",
    "\n",
    "So, one solution was to consider that there is no delay for the other trips (Bus / Tram), thus, there will almost alway have 0% chance to miss a connection between two transports as there are a majority of Bus and Tram in the center of Zurich.\n",
    "\n",
    "An other solution was to try to predict the delay of those trips according to the ones we already had. That is why we decided to make a linear regression using the localization (latitude, longitude) of the stop, as along with the day and time of the trip.\n",
    "\n",
    "### 2) Complete the delay data with Linear Regression :\n",
    "\n",
    "Here we tried to predict the delay for every station. We made the assumption to use the delay of the train to predict the delay of the bus and trams."
   ]
  },
  {
   "cell_type": "code",
   "execution_count": 19,
   "metadata": {
    "collapsed": true
   },
   "outputs": [],
   "source": [
    "#We create a dataframe of stations with unknown delays\n",
    "#station_to_predict = df3.filter(df3.next_arr_forecast_status == \"PROGNOSE\").groupby(['transport_type', 'next_sid', 'arrival_interval', 'weekday']).count()\n",
    "\n",
    "#station_to_predict = station_to_predict.toPandas()\n",
    "\n",
    "regenerate_knn_pickle = False\n",
    "if regenerate_knn_pickle:\n",
    "    station_to_predict.to_pickle('./data/delay_knn.pickle')\n",
    "else:\n",
    "    station_to_predict = pd.read_pickle('./data/delay_knn.pickle')\n",
    "\n",
    "#Add longitutude and latitude\n",
    "station_to_predict['long'] = station_to_predict['next_sid'].map(lambda x: pandas_df[pandas_df['station_ID'] == x].long.values[0])\n",
    "station_to_predict['lat'] = station_to_predict['next_sid'].map(lambda x: pandas_df[pandas_df['station_ID'] == x].lat.values[0])\n",
    "\n",
    "#Dataframe of stations with known delays\n",
    "station_computed = arrival_df1.withColumn('long', spark_helpers.get_longitude(arrival_df1.next_sid))\n",
    "station_computed = station_computed.withColumn('lat', spark_helpers.get_latitude(station_computed.next_sid))\n",
    "\n",
    "#station_computed_pandas = station_computed.toPandas()\n",
    "regenerate_stat_comp_pickle = False\n",
    "if regenerate_stat_comp_pickle:\n",
    "    station_computed_pandas.to_pickle('./data/stat_comp.pickle')\n",
    "else:\n",
    "    station_computed_pandas = pd.read_pickle('./data/stat_comp.pickle')"
   ]
  },
  {
   "cell_type": "code",
   "execution_count": 20,
   "metadata": {
    "collapsed": true
   },
   "outputs": [],
   "source": [
    "station_computed_lin = station_computed_pandas[['trip_id', 'next_sid', 'weekday', 'arrival_interval', 'long', 'lat', 'delay_arrival']]\n",
    "\n",
    "#We use a linear regression to predict the delay using the localisation, the weekday and  the time interval\n",
    "lr = LinearRegression()\n",
    "lr.fit(station_computed_lin[['weekday', 'arrival_interval', 'long', 'lat']], station_computed_lin['delay_arrival'])\n",
    "\n",
    "station_to_predict['pred'] = lr.predict(station_to_predict[['weekday', 'arrival_interval', 'long', 'lat']])\n",
    "\n",
    "\n",
    "def get_delay(status, delay, interval, week_day, transport_type, sid):\n",
    "    if status == 'GESCHAETZT':\n",
    "        return float(delay)\n",
    "    return float(station_to_predict[(station_to_predict['next_sid'] == sid) & \n",
    "                              (station_to_predict['transport_type'] == transport_type) & \n",
    "                              (station_to_predict['weekday'] == week_day) & \n",
    "                              (station_to_predict['arrival_interval'] == interval)]['pred'])\n",
    "\n",
    "get_delay_udf = functions.udf(get_delay, FloatType())                                                                                                                                                    \n",
    "\n",
    "#Set the delay to every stations. Keep the orignal if exist otherwise use the prediction\n",
    "arrival_df = df3.withColumn('real_delay', get_delay_udf(df3.next_arr_forecast_status, df3.delay_arrival, df3.arrival_interval, df3.weekday, df3.transport_type, df3.next_sid))\n",
    "\n",
    "arrival_df = arrival_df.drop('delay_arrival')\n",
    "arrival_df = arrival_df.withColumnRenamed(\"real_delay\", \"delay_arrival\")"
   ]
  },
  {
   "cell_type": "markdown",
   "metadata": {},
   "source": [
    "### 3) Evaluate the uncertainty according to the delay:\n",
    "\n",
    "Thus for now we have the delay for a majority of trips for a weekday and a time interval. Thus we have to find a way to evaluate the uncertainty according to the delays we have. We decide to use the interquartile range (IQR) in order to manage the outliers. In fact, the interquartile range is the difference between the upper and lower quartiles (75th, 25th percentiles) Q3 and Q2. \n",
    "\n",
    "$IQR = Q3 - Q2$\n",
    "\n",
    "It allows us to mesure the dispersion of the delays for each trip. Moreover we associate it with the interquartile mean (IQM) which is the mean of the data included in the interquartile range and is insensitive to outliers.\n",
    "\n",
    "$IQM = \\frac{2}{n}\\sum_{i = \\frac{n}{4}+1}^\\frac{3n}{4} x_i$\n",
    "\n",
    "Thus for each trips, for a given day of the week and time interval, we now have an estimation of the **worst delay** possible without being affected by the outliers.\n",
    "\n",
    "We have decided to group the Monday, Tuesday, Thursday and Friday as we considered them as typical working days, the 3 other days were processed separatly. Morevover in order to create the time intervals we have decided to group the \"rush hours\" together (6h/9h - 17h/19h) separatly to the others time of the day. First of all, we made a Kmeans based on the delay, the week days and the transport types in order to determine those intervals however it does not give us specific time clusters that is why we used those ones."
   ]
  },
  {
   "cell_type": "code",
   "execution_count": 21,
   "metadata": {
    "collapsed": true,
    "scrolled": true
   },
   "outputs": [],
   "source": [
    "# We group the trips by their week day and time interval\n",
    "delay_distribution = arrival_df.groupby(['trip_id', 'arrival_interval', 'weekday']).agg(functions.collect_list(functions.col('delay_arrival'))).alias('distri')\n",
    "delay_distribution = delay_distribution.withColumn('distri', spark_helpers.delete_neg(functions.col('collect_list(delay_arrival)')))\n",
    "\n",
    "# We compute the IQM / IQR and worst case\n",
    "delay_distribution = delay_distribution.withColumn('IQM', spark_helpers.iqm(delay_distribution.distri))\n",
    "delay_distribution = delay_distribution.withColumn('interquartile', spark_helpers.interquartile(delay_distribution.distri))\n",
    "delay_distribution = delay_distribution.withColumn('worst_case', delay_distribution.IQM + delay_distribution.interquartile)\n",
    "\n",
    "#delay_distribution_pd = delay_distribution.toPandas()"
   ]
  },
  {
   "cell_type": "code",
   "execution_count": 22,
   "metadata": {
    "collapsed": true,
    "scrolled": true
   },
   "outputs": [],
   "source": [
    "# Then we store it in order to easily make our predictions.\n",
    "regenerate_distri_pickle = False\n",
    "if regenerate_distri_pickle:\n",
    "    delay_distribution_pd.to_pickle('./data/delay_distri.pickle')\n",
    "else:\n",
    "    #delay_distribution_pd = pd.read_pickle('./data/delay_distri.pickle')\n",
    "    # if we want to use the predictions\n",
    "    delay_distribution_pd = pd.read_pickle('./data/full_delay_distri.pickle')"
   ]
  },
  {
   "cell_type": "markdown",
   "metadata": {},
   "source": [
    "Here we can see an example of delay worst cases in seconds for some trips"
   ]
  },
  {
   "cell_type": "code",
   "execution_count": 23,
   "metadata": {},
   "outputs": [
    {
     "data": {
      "text/html": [
       "<div>\n",
       "<style>\n",
       "    .dataframe thead tr:only-child th {\n",
       "        text-align: right;\n",
       "    }\n",
       "\n",
       "    .dataframe thead th {\n",
       "        text-align: left;\n",
       "    }\n",
       "\n",
       "    .dataframe tbody tr th {\n",
       "        vertical-align: top;\n",
       "    }\n",
       "</style>\n",
       "<table border=\"1\" class=\"dataframe\">\n",
       "  <thead>\n",
       "    <tr style=\"text-align: right;\">\n",
       "      <th></th>\n",
       "      <th>trip_id</th>\n",
       "      <th>IQM</th>\n",
       "      <th>interquartile</th>\n",
       "      <th>worst_case</th>\n",
       "    </tr>\n",
       "  </thead>\n",
       "  <tbody>\n",
       "    <tr>\n",
       "      <th>0</th>\n",
       "      <td>85:11:18231:002</td>\n",
       "      <td>20.005776926104943</td>\n",
       "      <td>60.0</td>\n",
       "      <td>80.005777</td>\n",
       "    </tr>\n",
       "    <tr>\n",
       "      <th>1</th>\n",
       "      <td>85:11:18330:001</td>\n",
       "      <td>22.5531914893617</td>\n",
       "      <td>60.0</td>\n",
       "      <td>82.553191</td>\n",
       "    </tr>\n",
       "    <tr>\n",
       "      <th>2</th>\n",
       "      <td>85:11:19536:001</td>\n",
       "      <td>0.0</td>\n",
       "      <td>0.0</td>\n",
       "      <td>0.000000</td>\n",
       "    </tr>\n",
       "    <tr>\n",
       "      <th>3</th>\n",
       "      <td>85:11:2684:001</td>\n",
       "      <td>3.404255319148936</td>\n",
       "      <td>60.0</td>\n",
       "      <td>63.404255</td>\n",
       "    </tr>\n",
       "    <tr>\n",
       "      <th>4</th>\n",
       "      <td>85:11:31432:003</td>\n",
       "      <td>0.0</td>\n",
       "      <td>0.0</td>\n",
       "      <td>0.000000</td>\n",
       "    </tr>\n",
       "  </tbody>\n",
       "</table>\n",
       "</div>"
      ],
      "text/plain": [
       "           trip_id                 IQM interquartile  worst_case\n",
       "0  85:11:18231:002  20.005776926104943          60.0   80.005777\n",
       "1  85:11:18330:001    22.5531914893617          60.0   82.553191\n",
       "2  85:11:19536:001                 0.0           0.0    0.000000\n",
       "3   85:11:2684:001   3.404255319148936          60.0   63.404255\n",
       "4  85:11:31432:003                 0.0           0.0    0.000000"
      ]
     },
     "execution_count": 23,
     "metadata": {},
     "output_type": "execute_result"
    }
   ],
   "source": [
    "delay_distribution_pd[[\"trip_id\", \"IQM\", \"interquartile\", \"worst_case\"]].head()"
   ]
  },
  {
   "cell_type": "markdown",
   "metadata": {},
   "source": [
    "## Shortest path algorithm\n",
    "\n",
    "The baseline version of our shortest path algorithm does not take any schedule delay into account and assumes that every train or bus is always sharp on time. In a second version, we will take into account the uncertainties obtained with the predictive model mentionned above.\n",
    "\n",
    "We want to compute the shortest path between two stops, given a source stop (in our case, it's always ZH HB), a destination and a departure or arrival date/time. To achieve this goal, we implemented an adaptation of Dijkstra's shortest path algorithm such that it takes into account the schedules, the correspondances and eventual waiting times at stops. The algorithm uses the functions ```shortest_path``` and ```get_next_correspondance```.\n",
    "\n",
    "In a nutshell, when the algorithm comes at a stop, it tries to update the shortest (=fastest in our case) path to all its neighbors either by taking the next public transport according to the current time or by walking if it's faster. If there is a change of vehicle, we will always take into account the waiting time at the station. Also note that we don't allow correspondances if the traveller has less than one minute to change.\n",
    "\n",
    "We won't go into the details or the algorithm here, as the code is duely documented and mostly consists of a state-of-the-art implementation of Dijksta's famous shortest path algorithm.\n",
    "\n",
    "For the case where we receive an arrival time instead of a departure time, we just modified the algorithm so that it finds a shortest path in a backward manner. This algorithm is implemented in the function ```shortest_path_reverse```.\n",
    "\n",
    "Here is a simple example of how to call the algorithm and display a pretty-printed version of the resulting path:"
   ]
  },
  {
   "cell_type": "code",
   "execution_count": 24,
   "metadata": {
    "collapsed": true
   },
   "outputs": [],
   "source": [
    "# filter out the stations that are not reachable from Zürich HB on mondays\n",
    "reachable_stations_ids = helpers.get_reachable_stations(models[0], walking_network, ZH_HB_ID)\n",
    "reachable_stations = {sid: stations[sid] for sid in reachable_stations_ids}"
   ]
  },
  {
   "cell_type": "code",
   "execution_count": 25,
   "metadata": {
    "scrolled": true
   },
   "outputs": [
    {
     "name": "stdout",
     "output_type": "stream",
     "text": [
      "line IR70 from Zürich HB to Zürich Oerlikon 14:01 -> 14:07(1 stops)\n",
      "line walk from Zürich Oerlikon to Zürich Oerlikon, Bahnhof 14:07 -> 14:07(1 stops)\n",
      "line 768 from Zürich Oerlikon, Bahnhof to Zürich, Seebach 14:08 -> 14:12(4 stops)\n",
      "line walk from Zürich, Seebach to Zürich, Ausserdorfstrasse 14:12 -> 14:15(1 stops)\n",
      "line 75 from Zürich, Ausserdorfstrasse to Zürich, Birch-/Glatttalstrasse 14:17 -> 14:18(1 stops)\n"
     ]
    }
   ],
   "source": [
    "sp = helpers.shortest_path(models, walking_network, reachable_stations,ZH_HB_ID, 8591085, datetime(2018, 1, 15, 14))\n",
    "helpers.reduced_path_tostring(helpers.reduce_path(sp), reachable_stations)"
   ]
  },
  {
   "cell_type": "markdown",
   "metadata": {},
   "source": [
    "And here is another example, this time giving the algorithm an arrival time instead of a departure time"
   ]
  },
  {
   "cell_type": "code",
   "execution_count": 26,
   "metadata": {},
   "outputs": [
    {
     "name": "stdout",
     "output_type": "stream",
     "text": [
      "line S6 from Zürich HB to Zürich Hardbrücke 13:31 -> 13:33(1 stops)\n",
      "line S9 from Zürich Hardbrücke to Glattbrugg 13:39 -> 13:47(2 stops)\n",
      "line walk from Glattbrugg to Glattbrugg, Oberhusen 13:49 -> 14:00(3 stops)\n"
     ]
    }
   ],
   "source": [
    "sp = helpers.shortest_path_reverse(models, walking_network, reachable_stations, ZH_HB_ID, 8590628, datetime(2018, 1, 15, 14))\n",
    "helpers.reduced_path_tostring(helpers.reduce_path(sp), reachable_stations)"
   ]
  },
  {
   "cell_type": "markdown",
   "metadata": {},
   "source": [
    "Thus we can see a typical trip from the Zurich main train station to the stop Zürich, Birch-/Glatttalstrasse.\n",
    "However we can ask ourself what is the reliability of this journey. Do we have a big chance of missing a change ?\n",
    "\n",
    "## Reliability of each connection and the whole trip\n",
    "\n",
    "We can now compute the feasibility of the trip. We estimate the reliability of each change by computing the ratio between the scheduled period of time we have to take the connection and the worst case delay that can happened to the previous transport. This worst case delay has been computed in the previous part for all trips. \n",
    "\n",
    "Finally, we determine the global uncertainty score by multiplying the score of each change of the trip. This score is spread from 0 (certain to miss the change) to 1 (certain to take the change)."
   ]
  },
  {
   "cell_type": "code",
   "execution_count": 27,
   "metadata": {},
   "outputs": [
    {
     "name": "stdout",
     "output_type": "stream",
     "text": [
      " Change number 1 : 100% of chance to take it with success\n",
      "\n",
      " This trip is realisable 100% of the time \n"
     ]
    }
   ],
   "source": [
    "score = helpers.routing_algo(sp, delay_distribution_pd)\n",
    "for i,s in enumerate(score[0].values()):\n",
    "    print(\" Change number {} : {}% of chance to take it with success\".format(i+1, round(s*100)))\n",
    "\n",
    "print(\"\\n This trip is realisable {}% of the time \".format(round(score[1]*100)))"
   ]
  },
  {
   "cell_type": "markdown",
   "metadata": {},
   "source": [
    "Thus, the route from Zürich HB to Zürich, Birch-/Glatttalstrasse is the fastest at least 35% of the time if I want to leave at 14h.\n",
    "\n",
    "And it is obviously the first change, that has a problem. The line IR70 has a too big chance to be late, and thus the passenger will not succed to take the line 768 **35%** of the time after joining the station by walking.\n",
    "\n",
    "Thus, we would like to let the posibility to choose a safest trip even if it is a bit slower, in order to reassure traveler that wants to arrive at all cost.\n",
    "\n",
    "## Safest trip\n",
    "\n",
    "In order to do so, we go to our network graph and delete the edge with the smallest certainty score. Then we rerun the shortest path algorithm until it finds a trip with a total score bigger than the threshold (that we fix here at 80%), we eventually stop after 100 runs if it does not find a 80% certain path.\n",
    "\n",
    "Then we show the fastest without regard of the feasibility of the trip and the 3 safest ones (if we do not find the best one before)"
   ]
  },
  {
   "cell_type": "code",
   "execution_count": 28,
   "metadata": {},
   "outputs": [
    {
     "name": "stdout",
     "output_type": "stream",
     "text": [
      "1 / 10\n",
      "2 / 10\n"
     ]
    }
   ],
   "source": [
    "res = helpers.safest_paths(models, walking_network, reachable_stations, ZH_HB_ID, 8591085, datetime(2018, 3, 15, 14), delay_distribution_pd, threshold=0.8)"
   ]
  },
  {
   "cell_type": "code",
   "execution_count": 29,
   "metadata": {},
   "outputs": [
    {
     "name": "stdout",
     "output_type": "stream",
     "text": [
      "Trip number 1 has 35% of chances to succeed and lasts 0:17:00 \n",
      "Trip number 2 has 100% of chances to succeed and lasts 0:24:00 \n"
     ]
    }
   ],
   "source": [
    "for i,t in enumerate(res[:2]):    \n",
    "    print(\"Trip number {} has {}% of chances to succeed and lasts {} \".format(i+1, round(t[1][1] * 100), str(helpers.compute_path_time(t[0]))))"
   ]
  },
  {
   "cell_type": "markdown",
   "metadata": {},
   "source": [
    "As we can see the safest trip is not the fastest one but it has a better chance to succeed, thus it could be prefered by a traveller who wants to make sure he'll be on time. Furthermore, the second trip is only 7 minute longer and is ~ 65% safer that trip one, which is a drastic improvement.\n",
    "\n",
    "## Validation method by visulatization\n",
    "\n",
    "We created a Bokeh visualization in order to display those two trips and see if they make sense. It shows the different lines the user has to take and the stations where a connection occurs. We can see that the trip are reliable and do not scatter in all directions.\n",
    "\n",
    "We also compared the results of our algorithm to other established services for several paths (SBB, Google Maps) to ensure we provided acceptable/plausible paths. Of course, this is not very exhaustive but it gives a good impression of our method's performance and correctness.\n",
    "\n",
    "Let's start by visualizing the fastest path:"
   ]
  },
  {
   "cell_type": "code",
   "execution_count": 30,
   "metadata": {},
   "outputs": [
    {
     "data": {
      "text/html": [
       "\n",
       "    <div class=\"bk-root\">\n",
       "        <a href=\"https://bokeh.pydata.org\" target=\"_blank\" class=\"bk-logo bk-logo-small bk-logo-notebook\"></a>\n",
       "        <span id=\"4bb86844-14d7-49e7-bfef-59a1481c3739\">Loading BokehJS ...</span>\n",
       "    </div>"
      ]
     },
     "metadata": {},
     "output_type": "display_data"
    },
    {
     "data": {
      "application/javascript": [
       "\n",
       "(function(root) {\n",
       "  function now() {\n",
       "    return new Date();\n",
       "  }\n",
       "\n",
       "  var force = true;\n",
       "\n",
       "  if (typeof (root._bokeh_onload_callbacks) === \"undefined\" || force === true) {\n",
       "    root._bokeh_onload_callbacks = [];\n",
       "    root._bokeh_is_loading = undefined;\n",
       "  }\n",
       "\n",
       "  var JS_MIME_TYPE = 'application/javascript';\n",
       "  var HTML_MIME_TYPE = 'text/html';\n",
       "  var EXEC_MIME_TYPE = 'application/vnd.bokehjs_exec.v0+json';\n",
       "  var CLASS_NAME = 'output_bokeh rendered_html';\n",
       "\n",
       "  /**\n",
       "   * Render data to the DOM node\n",
       "   */\n",
       "  function render(props, node) {\n",
       "    var script = document.createElement(\"script\");\n",
       "    node.appendChild(script);\n",
       "  }\n",
       "\n",
       "  /**\n",
       "   * Handle when an output is cleared or removed\n",
       "   */\n",
       "  function handleClearOutput(event, handle) {\n",
       "    var cell = handle.cell;\n",
       "\n",
       "    var id = cell.output_area._bokeh_element_id;\n",
       "    var server_id = cell.output_area._bokeh_server_id;\n",
       "    // Clean up Bokeh references\n",
       "    if (id !== undefined) {\n",
       "      Bokeh.index[id].model.document.clear();\n",
       "      delete Bokeh.index[id];\n",
       "    }\n",
       "\n",
       "    if (server_id !== undefined) {\n",
       "      // Clean up Bokeh references\n",
       "      var cmd = \"from bokeh.io.state import curstate; print(curstate().uuid_to_server['\" + server_id + \"'].get_sessions()[0].document.roots[0]._id)\";\n",
       "      cell.notebook.kernel.execute(cmd, {\n",
       "        iopub: {\n",
       "          output: function(msg) {\n",
       "            var element_id = msg.content.text.trim();\n",
       "            Bokeh.index[element_id].model.document.clear();\n",
       "            delete Bokeh.index[element_id];\n",
       "          }\n",
       "        }\n",
       "      });\n",
       "      // Destroy server and session\n",
       "      var cmd = \"import bokeh.io.notebook as ion; ion.destroy_server('\" + server_id + \"')\";\n",
       "      cell.notebook.kernel.execute(cmd);\n",
       "    }\n",
       "  }\n",
       "\n",
       "  /**\n",
       "   * Handle when a new output is added\n",
       "   */\n",
       "  function handleAddOutput(event, handle) {\n",
       "    var output_area = handle.output_area;\n",
       "    var output = handle.output;\n",
       "\n",
       "    // limit handleAddOutput to display_data with EXEC_MIME_TYPE content only\n",
       "    if ((output.output_type != \"display_data\") || (!output.data.hasOwnProperty(EXEC_MIME_TYPE))) {\n",
       "      return\n",
       "    }\n",
       "\n",
       "    var toinsert = output_area.element.find(\".\" + CLASS_NAME.split(' ')[0]);\n",
       "\n",
       "    if (output.metadata[EXEC_MIME_TYPE][\"id\"] !== undefined) {\n",
       "      toinsert[toinsert.length - 1].firstChild.textContent = output.data[JS_MIME_TYPE];\n",
       "      // store reference to embed id on output_area\n",
       "      output_area._bokeh_element_id = output.metadata[EXEC_MIME_TYPE][\"id\"];\n",
       "    }\n",
       "    if (output.metadata[EXEC_MIME_TYPE][\"server_id\"] !== undefined) {\n",
       "      var bk_div = document.createElement(\"div\");\n",
       "      bk_div.innerHTML = output.data[HTML_MIME_TYPE];\n",
       "      var script_attrs = bk_div.children[0].attributes;\n",
       "      for (var i = 0; i < script_attrs.length; i++) {\n",
       "        toinsert[toinsert.length - 1].firstChild.setAttribute(script_attrs[i].name, script_attrs[i].value);\n",
       "      }\n",
       "      // store reference to server id on output_area\n",
       "      output_area._bokeh_server_id = output.metadata[EXEC_MIME_TYPE][\"server_id\"];\n",
       "    }\n",
       "  }\n",
       "\n",
       "  function register_renderer(events, OutputArea) {\n",
       "\n",
       "    function append_mime(data, metadata, element) {\n",
       "      // create a DOM node to render to\n",
       "      var toinsert = this.create_output_subarea(\n",
       "        metadata,\n",
       "        CLASS_NAME,\n",
       "        EXEC_MIME_TYPE\n",
       "      );\n",
       "      this.keyboard_manager.register_events(toinsert);\n",
       "      // Render to node\n",
       "      var props = {data: data, metadata: metadata[EXEC_MIME_TYPE]};\n",
       "      render(props, toinsert[toinsert.length - 1]);\n",
       "      element.append(toinsert);\n",
       "      return toinsert\n",
       "    }\n",
       "\n",
       "    /* Handle when an output is cleared or removed */\n",
       "    events.on('clear_output.CodeCell', handleClearOutput);\n",
       "    events.on('delete.Cell', handleClearOutput);\n",
       "\n",
       "    /* Handle when a new output is added */\n",
       "    events.on('output_added.OutputArea', handleAddOutput);\n",
       "\n",
       "    /**\n",
       "     * Register the mime type and append_mime function with output_area\n",
       "     */\n",
       "    OutputArea.prototype.register_mime_type(EXEC_MIME_TYPE, append_mime, {\n",
       "      /* Is output safe? */\n",
       "      safe: true,\n",
       "      /* Index of renderer in `output_area.display_order` */\n",
       "      index: 0\n",
       "    });\n",
       "  }\n",
       "\n",
       "  // register the mime type if in Jupyter Notebook environment and previously unregistered\n",
       "  if (root.Jupyter !== undefined) {\n",
       "    var events = require('base/js/events');\n",
       "    var OutputArea = require('notebook/js/outputarea').OutputArea;\n",
       "\n",
       "    if (OutputArea.prototype.mime_types().indexOf(EXEC_MIME_TYPE) == -1) {\n",
       "      register_renderer(events, OutputArea);\n",
       "    }\n",
       "  }\n",
       "\n",
       "  \n",
       "  if (typeof (root._bokeh_timeout) === \"undefined\" || force === true) {\n",
       "    root._bokeh_timeout = Date.now() + 5000;\n",
       "    root._bokeh_failed_load = false;\n",
       "  }\n",
       "\n",
       "  var NB_LOAD_WARNING = {'data': {'text/html':\n",
       "     \"<div style='background-color: #fdd'>\\n\"+\n",
       "     \"<p>\\n\"+\n",
       "     \"BokehJS does not appear to have successfully loaded. If loading BokehJS from CDN, this \\n\"+\n",
       "     \"may be due to a slow or bad network connection. Possible fixes:\\n\"+\n",
       "     \"</p>\\n\"+\n",
       "     \"<ul>\\n\"+\n",
       "     \"<li>re-rerun `output_notebook()` to attempt to load from CDN again, or</li>\\n\"+\n",
       "     \"<li>use INLINE resources instead, as so:</li>\\n\"+\n",
       "     \"</ul>\\n\"+\n",
       "     \"<code>\\n\"+\n",
       "     \"from bokeh.resources import INLINE\\n\"+\n",
       "     \"output_notebook(resources=INLINE)\\n\"+\n",
       "     \"</code>\\n\"+\n",
       "     \"</div>\"}};\n",
       "\n",
       "  function display_loaded() {\n",
       "    var el = document.getElementById(\"4bb86844-14d7-49e7-bfef-59a1481c3739\");\n",
       "    if (el != null) {\n",
       "      el.textContent = \"BokehJS is loading...\";\n",
       "    }\n",
       "    if (root.Bokeh !== undefined) {\n",
       "      if (el != null) {\n",
       "        el.textContent = \"BokehJS \" + root.Bokeh.version + \" successfully loaded.\";\n",
       "      }\n",
       "    } else if (Date.now() < root._bokeh_timeout) {\n",
       "      setTimeout(display_loaded, 100)\n",
       "    }\n",
       "  }\n",
       "\n",
       "\n",
       "  function run_callbacks() {\n",
       "    try {\n",
       "      root._bokeh_onload_callbacks.forEach(function(callback) { callback() });\n",
       "    }\n",
       "    finally {\n",
       "      delete root._bokeh_onload_callbacks\n",
       "    }\n",
       "    console.info(\"Bokeh: all callbacks have finished\");\n",
       "  }\n",
       "\n",
       "  function load_libs(js_urls, callback) {\n",
       "    root._bokeh_onload_callbacks.push(callback);\n",
       "    if (root._bokeh_is_loading > 0) {\n",
       "      console.log(\"Bokeh: BokehJS is being loaded, scheduling callback at\", now());\n",
       "      return null;\n",
       "    }\n",
       "    if (js_urls == null || js_urls.length === 0) {\n",
       "      run_callbacks();\n",
       "      return null;\n",
       "    }\n",
       "    console.log(\"Bokeh: BokehJS not loaded, scheduling load and callback at\", now());\n",
       "    root._bokeh_is_loading = js_urls.length;\n",
       "    for (var i = 0; i < js_urls.length; i++) {\n",
       "      var url = js_urls[i];\n",
       "      var s = document.createElement('script');\n",
       "      s.src = url;\n",
       "      s.async = false;\n",
       "      s.onreadystatechange = s.onload = function() {\n",
       "        root._bokeh_is_loading--;\n",
       "        if (root._bokeh_is_loading === 0) {\n",
       "          console.log(\"Bokeh: all BokehJS libraries loaded\");\n",
       "          run_callbacks()\n",
       "        }\n",
       "      };\n",
       "      s.onerror = function() {\n",
       "        console.warn(\"failed to load library \" + url);\n",
       "      };\n",
       "      console.log(\"Bokeh: injecting script tag for BokehJS library: \", url);\n",
       "      document.getElementsByTagName(\"head\")[0].appendChild(s);\n",
       "    }\n",
       "  };var element = document.getElementById(\"4bb86844-14d7-49e7-bfef-59a1481c3739\");\n",
       "  if (element == null) {\n",
       "    console.log(\"Bokeh: ERROR: autoload.js configured with elementid '4bb86844-14d7-49e7-bfef-59a1481c3739' but no matching script tag was found. \")\n",
       "    return false;\n",
       "  }\n",
       "\n",
       "  var js_urls = [\"https://cdn.pydata.org/bokeh/release/bokeh-0.12.15.min.js\", \"https://cdn.pydata.org/bokeh/release/bokeh-widgets-0.12.15.min.js\", \"https://cdn.pydata.org/bokeh/release/bokeh-tables-0.12.15.min.js\", \"https://cdn.pydata.org/bokeh/release/bokeh-gl-0.12.15.min.js\"];\n",
       "\n",
       "  var inline_js = [\n",
       "    function(Bokeh) {\n",
       "      Bokeh.set_log_level(\"info\");\n",
       "    },\n",
       "    \n",
       "    function(Bokeh) {\n",
       "      \n",
       "    },\n",
       "    function(Bokeh) {\n",
       "      console.log(\"Bokeh: injecting CSS: https://cdn.pydata.org/bokeh/release/bokeh-0.12.15.min.css\");\n",
       "      Bokeh.embed.inject_css(\"https://cdn.pydata.org/bokeh/release/bokeh-0.12.15.min.css\");\n",
       "      console.log(\"Bokeh: injecting CSS: https://cdn.pydata.org/bokeh/release/bokeh-widgets-0.12.15.min.css\");\n",
       "      Bokeh.embed.inject_css(\"https://cdn.pydata.org/bokeh/release/bokeh-widgets-0.12.15.min.css\");\n",
       "      console.log(\"Bokeh: injecting CSS: https://cdn.pydata.org/bokeh/release/bokeh-tables-0.12.15.min.css\");\n",
       "      Bokeh.embed.inject_css(\"https://cdn.pydata.org/bokeh/release/bokeh-tables-0.12.15.min.css\");\n",
       "    }\n",
       "  ];\n",
       "\n",
       "  function run_inline_js() {\n",
       "    \n",
       "    if ((root.Bokeh !== undefined) || (force === true)) {\n",
       "      for (var i = 0; i < inline_js.length; i++) {\n",
       "        inline_js[i].call(root, root.Bokeh);\n",
       "      }if (force === true) {\n",
       "        display_loaded();\n",
       "      }} else if (Date.now() < root._bokeh_timeout) {\n",
       "      setTimeout(run_inline_js, 100);\n",
       "    } else if (!root._bokeh_failed_load) {\n",
       "      console.log(\"Bokeh: BokehJS failed to load within specified timeout.\");\n",
       "      root._bokeh_failed_load = true;\n",
       "    } else if (force !== true) {\n",
       "      var cell = $(document.getElementById(\"4bb86844-14d7-49e7-bfef-59a1481c3739\")).parents('.cell').data().cell;\n",
       "      cell.output_area.append_execute_result(NB_LOAD_WARNING)\n",
       "    }\n",
       "\n",
       "  }\n",
       "\n",
       "  if (root._bokeh_is_loading === 0) {\n",
       "    console.log(\"Bokeh: BokehJS loaded, going straight to plotting\");\n",
       "    run_inline_js();\n",
       "  } else {\n",
       "    load_libs(js_urls, function() {\n",
       "      console.log(\"Bokeh: BokehJS plotting callback run at\", now());\n",
       "      run_inline_js();\n",
       "    });\n",
       "  }\n",
       "}(window));"
      ],
      "application/vnd.bokehjs_load.v0+json": "\n(function(root) {\n  function now() {\n    return new Date();\n  }\n\n  var force = true;\n\n  if (typeof (root._bokeh_onload_callbacks) === \"undefined\" || force === true) {\n    root._bokeh_onload_callbacks = [];\n    root._bokeh_is_loading = undefined;\n  }\n\n  \n\n  \n  if (typeof (root._bokeh_timeout) === \"undefined\" || force === true) {\n    root._bokeh_timeout = Date.now() + 5000;\n    root._bokeh_failed_load = false;\n  }\n\n  var NB_LOAD_WARNING = {'data': {'text/html':\n     \"<div style='background-color: #fdd'>\\n\"+\n     \"<p>\\n\"+\n     \"BokehJS does not appear to have successfully loaded. If loading BokehJS from CDN, this \\n\"+\n     \"may be due to a slow or bad network connection. Possible fixes:\\n\"+\n     \"</p>\\n\"+\n     \"<ul>\\n\"+\n     \"<li>re-rerun `output_notebook()` to attempt to load from CDN again, or</li>\\n\"+\n     \"<li>use INLINE resources instead, as so:</li>\\n\"+\n     \"</ul>\\n\"+\n     \"<code>\\n\"+\n     \"from bokeh.resources import INLINE\\n\"+\n     \"output_notebook(resources=INLINE)\\n\"+\n     \"</code>\\n\"+\n     \"</div>\"}};\n\n  function display_loaded() {\n    var el = document.getElementById(\"4bb86844-14d7-49e7-bfef-59a1481c3739\");\n    if (el != null) {\n      el.textContent = \"BokehJS is loading...\";\n    }\n    if (root.Bokeh !== undefined) {\n      if (el != null) {\n        el.textContent = \"BokehJS \" + root.Bokeh.version + \" successfully loaded.\";\n      }\n    } else if (Date.now() < root._bokeh_timeout) {\n      setTimeout(display_loaded, 100)\n    }\n  }\n\n\n  function run_callbacks() {\n    try {\n      root._bokeh_onload_callbacks.forEach(function(callback) { callback() });\n    }\n    finally {\n      delete root._bokeh_onload_callbacks\n    }\n    console.info(\"Bokeh: all callbacks have finished\");\n  }\n\n  function load_libs(js_urls, callback) {\n    root._bokeh_onload_callbacks.push(callback);\n    if (root._bokeh_is_loading > 0) {\n      console.log(\"Bokeh: BokehJS is being loaded, scheduling callback at\", now());\n      return null;\n    }\n    if (js_urls == null || js_urls.length === 0) {\n      run_callbacks();\n      return null;\n    }\n    console.log(\"Bokeh: BokehJS not loaded, scheduling load and callback at\", now());\n    root._bokeh_is_loading = js_urls.length;\n    for (var i = 0; i < js_urls.length; i++) {\n      var url = js_urls[i];\n      var s = document.createElement('script');\n      s.src = url;\n      s.async = false;\n      s.onreadystatechange = s.onload = function() {\n        root._bokeh_is_loading--;\n        if (root._bokeh_is_loading === 0) {\n          console.log(\"Bokeh: all BokehJS libraries loaded\");\n          run_callbacks()\n        }\n      };\n      s.onerror = function() {\n        console.warn(\"failed to load library \" + url);\n      };\n      console.log(\"Bokeh: injecting script tag for BokehJS library: \", url);\n      document.getElementsByTagName(\"head\")[0].appendChild(s);\n    }\n  };var element = document.getElementById(\"4bb86844-14d7-49e7-bfef-59a1481c3739\");\n  if (element == null) {\n    console.log(\"Bokeh: ERROR: autoload.js configured with elementid '4bb86844-14d7-49e7-bfef-59a1481c3739' but no matching script tag was found. \")\n    return false;\n  }\n\n  var js_urls = [\"https://cdn.pydata.org/bokeh/release/bokeh-0.12.15.min.js\", \"https://cdn.pydata.org/bokeh/release/bokeh-widgets-0.12.15.min.js\", \"https://cdn.pydata.org/bokeh/release/bokeh-tables-0.12.15.min.js\", \"https://cdn.pydata.org/bokeh/release/bokeh-gl-0.12.15.min.js\"];\n\n  var inline_js = [\n    function(Bokeh) {\n      Bokeh.set_log_level(\"info\");\n    },\n    \n    function(Bokeh) {\n      \n    },\n    function(Bokeh) {\n      console.log(\"Bokeh: injecting CSS: https://cdn.pydata.org/bokeh/release/bokeh-0.12.15.min.css\");\n      Bokeh.embed.inject_css(\"https://cdn.pydata.org/bokeh/release/bokeh-0.12.15.min.css\");\n      console.log(\"Bokeh: injecting CSS: https://cdn.pydata.org/bokeh/release/bokeh-widgets-0.12.15.min.css\");\n      Bokeh.embed.inject_css(\"https://cdn.pydata.org/bokeh/release/bokeh-widgets-0.12.15.min.css\");\n      console.log(\"Bokeh: injecting CSS: https://cdn.pydata.org/bokeh/release/bokeh-tables-0.12.15.min.css\");\n      Bokeh.embed.inject_css(\"https://cdn.pydata.org/bokeh/release/bokeh-tables-0.12.15.min.css\");\n    }\n  ];\n\n  function run_inline_js() {\n    \n    if ((root.Bokeh !== undefined) || (force === true)) {\n      for (var i = 0; i < inline_js.length; i++) {\n        inline_js[i].call(root, root.Bokeh);\n      }if (force === true) {\n        display_loaded();\n      }} else if (Date.now() < root._bokeh_timeout) {\n      setTimeout(run_inline_js, 100);\n    } else if (!root._bokeh_failed_load) {\n      console.log(\"Bokeh: BokehJS failed to load within specified timeout.\");\n      root._bokeh_failed_load = true;\n    } else if (force !== true) {\n      var cell = $(document.getElementById(\"4bb86844-14d7-49e7-bfef-59a1481c3739\")).parents('.cell').data().cell;\n      cell.output_area.append_execute_result(NB_LOAD_WARNING)\n    }\n\n  }\n\n  if (root._bokeh_is_loading === 0) {\n    console.log(\"Bokeh: BokehJS loaded, going straight to plotting\");\n    run_inline_js();\n  } else {\n    load_libs(js_urls, function() {\n      console.log(\"Bokeh: BokehJS plotting callback run at\", now());\n      run_inline_js();\n    });\n  }\n}(window));"
     },
     "metadata": {},
     "output_type": "display_data"
    },
    {
     "data": {
      "text/html": [
       "\n",
       "<div class=\"bk-root\">\n",
       "    <div class=\"bk-plotdiv\" id=\"a9b2370d-e9db-42b8-90f7-01c11e29da3a\"></div>\n",
       "</div>"
      ]
     },
     "metadata": {},
     "output_type": "display_data"
    },
    {
     "data": {
      "application/javascript": [
       "(function(root) {\n",
       "  function embed_document(root) {\n",
       "    \n",
       "  var docs_json = {\"5e9941cf-c4b3-4a6c-90eb-294d963146df\":{\"roots\":{\"references\":[{\"attributes\":{\"overlay\":{\"id\":\"7ef1a480-3bda-4e26-8cb0-733e4a7a70e9\",\"type\":\"BoxAnnotation\"}},\"id\":\"4fb61e04-d863-4008-8c93-1470cd14af60\",\"type\":\"BoxZoomTool\"},{\"attributes\":{\"line_color\":\"#fb8072\",\"line_width\":4,\"x\":{\"field\":\"x\"},\"y\":{\"field\":\"y\"}},\"id\":\"12743d87-de4d-4c2b-b05b-7b4d226c9073\",\"type\":\"Line\"},{\"attributes\":{\"below\":[{\"id\":\"2ba7f436-e751-4098-81c2-5917f2a3e679\",\"type\":\"MercatorAxis\"}],\"left\":[{\"id\":\"f0c61ae6-1368-4f51-bfc4-d49854d0e602\",\"type\":\"MercatorAxis\"}],\"plot_width\":900,\"renderers\":[{\"id\":\"2ba7f436-e751-4098-81c2-5917f2a3e679\",\"type\":\"MercatorAxis\"},{\"id\":\"58d9c004-6eb9-4e16-9c52-f8e9cc7c67c8\",\"type\":\"Grid\"},{\"id\":\"f0c61ae6-1368-4f51-bfc4-d49854d0e602\",\"type\":\"MercatorAxis\"},{\"id\":\"106d720c-e70d-43bc-88ab-70b3214ab9a0\",\"type\":\"Grid\"},{\"id\":\"7ef1a480-3bda-4e26-8cb0-733e4a7a70e9\",\"type\":\"BoxAnnotation\"},{\"id\":\"0d34b42c-cebc-44d1-9ad4-c6987747ad44\",\"type\":\"TileRenderer\"},{\"id\":\"b7cb3c87-11d7-40a6-81ee-c4e65819cdec\",\"type\":\"Legend\"},{\"id\":\"c14e2fc4-72a2-49f4-aba9-26f9373c3d19\",\"type\":\"GlyphRenderer\"},{\"id\":\"430eef9f-66b2-45c1-9d6d-a04ff2ebd814\",\"type\":\"GlyphRenderer\"},{\"id\":\"9411cb6d-fde8-42ff-9989-ea7b9f634de0\",\"type\":\"GlyphRenderer\"},{\"id\":\"2df0e552-3ce2-4ecf-98e7-d0b0b54be40e\",\"type\":\"GlyphRenderer\"},{\"id\":\"1ed97359-78e8-446b-bacb-4e4016c6141b\",\"type\":\"GlyphRenderer\"},{\"id\":\"d9f2b719-8ae6-49ad-9f7c-36edd1a2e4ac\",\"type\":\"GlyphRenderer\"},{\"id\":\"0960990d-c6e3-4c73-9fe6-cbbbdfa1dd96\",\"type\":\"LabelSet\"}],\"title\":{\"id\":\"3ffb3927-6888-4fa0-b480-35244713246b\",\"type\":\"Title\"},\"toolbar\":{\"id\":\"61409e0f-89a9-471d-8789-7282787f348f\",\"type\":\"Toolbar\"},\"x_range\":{\"id\":\"ea66b923-ef49-4aab-ba38-ffa4f2cb4c1a\",\"type\":\"Range1d\"},\"x_scale\":{\"id\":\"86dbfa55-8665-4411-a62f-118be3656872\",\"type\":\"LinearScale\"},\"y_range\":{\"id\":\"95a65d1c-d216-4347-8cd2-b3ed50ede083\",\"type\":\"Range1d\"},\"y_scale\":{\"id\":\"0e7331ae-8445-4c44-8e2a-0d1dbb9516e0\",\"type\":\"LinearScale\"}},\"id\":\"fd4d22f0-d3b2-4ec6-a241-6701ee143256\",\"subtype\":\"Figure\",\"type\":\"Plot\"},{\"attributes\":{\"line_color\":\"#bebada\",\"line_width\":4,\"x\":{\"field\":\"x\"},\"y\":{\"field\":\"y\"}},\"id\":\"a4a414c1-7256-4a58-bb90-f2a0d51ac8a6\",\"type\":\"Line\"},{\"attributes\":{\"line_alpha\":0.1,\"line_color\":\"#1f77b4\",\"line_width\":4,\"x\":{\"field\":\"x\"},\"y\":{\"field\":\"y\"}},\"id\":\"f6f01134-1355-40b5-8c12-37706460a603\",\"type\":\"Line\"},{\"attributes\":{\"active_drag\":\"auto\",\"active_inspect\":\"auto\",\"active_scroll\":\"auto\",\"active_tap\":\"auto\",\"tools\":[{\"id\":\"0e8b4490-e0e5-484d-a73d-0ce06539b237\",\"type\":\"HoverTool\"},{\"id\":\"991dc186-11fc-4829-98b0-57f58a310645\",\"type\":\"PanTool\"},{\"id\":\"780ba092-ceaf-4e4f-a2f4-252a3569f5a6\",\"type\":\"WheelZoomTool\"},{\"id\":\"4fb61e04-d863-4008-8c93-1470cd14af60\",\"type\":\"BoxZoomTool\"},{\"id\":\"9d8811db-5781-4ebc-ba6d-644d4847da28\",\"type\":\"ResetTool\"}]},\"id\":\"61409e0f-89a9-471d-8789-7282787f348f\",\"type\":\"Toolbar\"},{\"attributes\":{\"source\":{\"id\":\"3b67426b-10d3-4192-938a-923af3eb3700\",\"type\":\"ColumnDataSource\"}},\"id\":\"d21ea816-1629-45aa-9c63-276d2e99a193\",\"type\":\"CDSView\"},{\"attributes\":{\"callback\":null,\"column_names\":[\"x\",\"y\"],\"data\":{\"x\":[951621.2348962564,951352.064367519],\"y\":[6011642.613062038,6012118.467883472]},\"selected\":null,\"selection_policy\":null},\"id\":\"3b67426b-10d3-4192-938a-923af3eb3700\",\"type\":\"ColumnDataSource\"},{\"attributes\":{\"label\":{\"value\":\"75\"},\"renderers\":[{\"id\":\"1ed97359-78e8-446b-bacb-4e4016c6141b\",\"type\":\"GlyphRenderer\"}]},\"id\":\"bb880255-79d7-498c-ab09-b5fc5037bc8e\",\"type\":\"LegendItem\"},{\"attributes\":{\"source\":{\"id\":\"f3b27402-cf26-4d8f-85af-604c39a534e8\",\"type\":\"ColumnDataSource\"}},\"id\":\"5ab07ccc-ed95-44f5-8c16-708b44477015\",\"type\":\"CDSView\"},{\"attributes\":{},\"id\":\"86dbfa55-8665-4411-a62f-118be3656872\",\"type\":\"LinearScale\"},{\"attributes\":{\"line_color\":\"#8dd3c7\",\"line_width\":4,\"x\":{\"field\":\"x\"},\"y\":{\"field\":\"y\"}},\"id\":\"2e90127d-2bef-4288-be93-6d370e71d803\",\"type\":\"Line\"},{\"attributes\":{\"attribution\":\"&copy; <a href=\\\"https://www.openstreetmap.org/copyright\\\">OpenStreetMap</a> contributors,&copy; <a href=\\\"https://cartodb.com/attributions\\\">CartoDB</a>\",\"url\":\"https://tiles.basemaps.cartocdn.com/light_all/{z}/{x}/{y}.png\"},\"id\":\"41354cc2-d46e-4fdc-bd74-aedf5a61fdd1\",\"type\":\"WMTSTileSource\"},{\"attributes\":{\"source\":{\"id\":\"5c489f3f-efb7-4eb4-9c9d-0497a99facb6\",\"type\":\"ColumnDataSource\"}},\"id\":\"c3f3a2f8-e250-4d20-ac9a-3e42ba85fbd6\",\"type\":\"CDSView\"},{\"attributes\":{\"line_alpha\":0.1,\"line_color\":\"#1f77b4\",\"line_width\":4,\"x\":{\"field\":\"x\"},\"y\":{\"field\":\"y\"}},\"id\":\"ed66d7cf-debb-43cc-88c9-b34577d75d6d\",\"type\":\"Line\"},{\"attributes\":{\"source\":{\"id\":\"5a7e087b-55b9-4269-870d-f36f1ea03000\",\"type\":\"ColumnDataSource\"}},\"id\":\"67bb4cb4-4945-465b-acee-17fa39e13d96\",\"type\":\"CDSView\"},{\"attributes\":{\"line_color\":\"#ffffb3\",\"line_width\":4,\"x\":{\"field\":\"x\"},\"y\":{\"field\":\"y\"}},\"id\":\"8feae8d7-8f3f-4fca-b850-08c7652e72fd\",\"type\":\"Line\"},{\"attributes\":{\"plot\":null,\"text\":\"\"},\"id\":\"3ffb3927-6888-4fa0-b480-35244713246b\",\"type\":\"Title\"},{\"attributes\":{\"data_source\":{\"id\":\"3b67426b-10d3-4192-938a-923af3eb3700\",\"type\":\"ColumnDataSource\"},\"glyph\":{\"id\":\"12743d87-de4d-4c2b-b05b-7b4d226c9073\",\"type\":\"Line\"},\"hover_glyph\":null,\"muted_glyph\":null,\"nonselection_glyph\":{\"id\":\"7ee8ba1d-8225-4051-8d19-8737d0291119\",\"type\":\"Line\"},\"selection_glyph\":null,\"view\":{\"id\":\"d21ea816-1629-45aa-9c63-276d2e99a193\",\"type\":\"CDSView\"}},\"id\":\"1ed97359-78e8-446b-bacb-4e4016c6141b\",\"type\":\"GlyphRenderer\"},{\"attributes\":{\"data_source\":{\"id\":\"cc7a227c-41d8-41b5-b6ec-42972498c86a\",\"type\":\"ColumnDataSource\"},\"glyph\":{\"id\":\"2e90127d-2bef-4288-be93-6d370e71d803\",\"type\":\"Line\"},\"hover_glyph\":null,\"muted_glyph\":null,\"nonselection_glyph\":{\"id\":\"bfa30e98-4f66-4de9-8aea-865b1c0614ba\",\"type\":\"Line\"},\"selection_glyph\":null,\"view\":{\"id\":\"fc44bd2f-c08f-4cce-9bfa-76e98bc4a039\",\"type\":\"CDSView\"}},\"id\":\"c14e2fc4-72a2-49f4-aba9-26f9373c3d19\",\"type\":\"GlyphRenderer\"},{\"attributes\":{\"line_alpha\":0.1,\"line_color\":\"#1f77b4\",\"line_width\":4,\"x\":{\"field\":\"x\"},\"y\":{\"field\":\"y\"}},\"id\":\"9e9a0680-2b46-4968-8a77-f9a1e432cb3a\",\"type\":\"Line\"},{\"attributes\":{\"source\":{\"id\":\"cc7a227c-41d8-41b5-b6ec-42972498c86a\",\"type\":\"ColumnDataSource\"}},\"id\":\"fc44bd2f-c08f-4cce-9bfa-76e98bc4a039\",\"type\":\"CDSView\"},{\"attributes\":{\"callback\":null,\"column_names\":[\"x\",\"y\"],\"data\":{\"x\":[951756.8220360434,951621.2348962564],\"y\":[6011206.929361019,6011642.613062038]},\"selected\":null,\"selection_policy\":null},\"id\":\"f3b27402-cf26-4d8f-85af-604c39a534e8\",\"type\":\"ColumnDataSource\"},{\"attributes\":{\"data_source\":{\"id\":\"5a7e087b-55b9-4269-870d-f36f1ea03000\",\"type\":\"ColumnDataSource\"},\"glyph\":{\"id\":\"8feae8d7-8f3f-4fca-b850-08c7652e72fd\",\"type\":\"Line\"},\"hover_glyph\":null,\"muted_glyph\":null,\"nonselection_glyph\":{\"id\":\"f6f01134-1355-40b5-8c12-37706460a603\",\"type\":\"Line\"},\"selection_glyph\":null,\"view\":{\"id\":\"67bb4cb4-4945-465b-acee-17fa39e13d96\",\"type\":\"CDSView\"}},\"id\":\"9411cb6d-fde8-42ff-9989-ea7b9f634de0\",\"type\":\"GlyphRenderer\"},{\"attributes\":{\"data_source\":{\"id\":\"f3b27402-cf26-4d8f-85af-604c39a534e8\",\"type\":\"ColumnDataSource\"},\"glyph\":{\"id\":\"a4a414c1-7256-4a58-bb90-f2a0d51ac8a6\",\"type\":\"Line\"},\"hover_glyph\":null,\"muted_glyph\":null,\"nonselection_glyph\":{\"id\":\"ed66d7cf-debb-43cc-88c9-b34577d75d6d\",\"type\":\"Line\"},\"selection_glyph\":null,\"view\":{\"id\":\"5ab07ccc-ed95-44f5-8c16-708b44477015\",\"type\":\"CDSView\"}},\"id\":\"2df0e552-3ce2-4ecf-98e7-d0b0b54be40e\",\"type\":\"GlyphRenderer\"},{\"attributes\":{\"callback\":null,\"end\":6010022.131701146,\"start\":5998022.131701146},\"id\":\"95a65d1c-d216-4347-8cd2-b3ed50ede083\",\"type\":\"Range1d\"},{\"attributes\":{\"callback\":null,\"column_names\":[\"x\",\"y\"],\"data\":{\"x\":[950689.8247167885,951126.5310791694],\"y\":[6004022.131701146,6009506.689208569]},\"selected\":null,\"selection_policy\":null},\"id\":\"cc7a227c-41d8-41b5-b6ec-42972498c86a\",\"type\":\"ColumnDataSource\"},{\"attributes\":{\"tile_source\":{\"id\":\"41354cc2-d46e-4fdc-bd74-aedf5a61fdd1\",\"type\":\"WMTSTileSource\"}},\"id\":\"0d34b42c-cebc-44d1-9ad4-c6987747ad44\",\"type\":\"TileRenderer\"},{\"attributes\":{\"label\":{\"value\":\"768\"},\"renderers\":[{\"id\":\"9411cb6d-fde8-42ff-9989-ea7b9f634de0\",\"type\":\"GlyphRenderer\"}]},\"id\":\"238f2def-0602-4ad6-ba0b-3400663900e2\",\"type\":\"LegendItem\"},{\"attributes\":{\"line_alpha\":0.1,\"line_color\":\"#1f77b4\",\"line_width\":4,\"x\":{\"field\":\"x\"},\"y\":{\"field\":\"y\"}},\"id\":\"bfa30e98-4f66-4de9-8aea-865b1c0614ba\",\"type\":\"Line\"},{\"attributes\":{\"source\":{\"id\":\"677e80e1-039a-4518-ba32-4ff5a54e5bd4\",\"type\":\"ColumnDataSource\"}},\"id\":\"d8ceaa07-8bac-4d58-b22d-c009797e525a\",\"type\":\"CDSView\"},{\"attributes\":{},\"id\":\"991dc186-11fc-4829-98b0-57f58a310645\",\"type\":\"PanTool\"},{\"attributes\":{\"callback\":null,\"column_names\":[\"x\",\"y\",\"names\",\"desc\"],\"data\":{\"desc\":[\"Z\\u00fcrich HB\",\"Z\\u00fcrich Oerlikon\",\"Z\\u00fcrich Oerlikon, Bahnhof\",\"Z\\u00fcrich Oerlikon, Bahnhof Ost\",\"Z\\u00fcrich, Felsenrainstrasse\",\"Z\\u00fcrich, Seebacherplatz\",\"Z\\u00fcrich, Seebach\",\"Z\\u00fcrich, Ausserdorfstrasse\",\"Z\\u00fcrich, Birch-/Glatttalstrasse\"],\"names\":[\"Z\\u00fcrich HB\",\"Z\\u00fcrich Oerlikon\",\"Z\\u00fcrich Oerlikon, Bahnhof\",\"\",\"\",\"\",\"Z\\u00fcrich, Seebach\",\"Z\\u00fcrich, Ausserdorfstrasse\",\"Z\\u00fcrich, Birch-/Glatttalstrasse\"],\"x\":[950689.8247167885,951126.5310791694,951201.6717354574,951319.447756715,951258.110717289,951600.1955124955,951756.8220360434,951621.2348962564,951352.064367519],\"y\":[6004022.131701146,6009506.689208569,6009501.26081944,6009804.433337239,6010371.985020746,6010877.713124968,6011206.929361019,6011642.613062038,6012118.467883472]},\"selected\":null,\"selection_policy\":null},\"id\":\"5c489f3f-efb7-4eb4-9c9d-0497a99facb6\",\"type\":\"ColumnDataSource\"},{\"attributes\":{\"fill_color\":{\"value\":\"#000000\"},\"line_color\":{\"value\":\"#1f77b4\"},\"size\":{\"units\":\"screen\",\"value\":15},\"x\":{\"field\":\"x\"},\"y\":{\"field\":\"y\"}},\"id\":\"5663aedf-4244-483e-a079-2f4621a35765\",\"type\":\"Circle\"},{\"attributes\":{},\"id\":\"0e7331ae-8445-4c44-8e2a-0d1dbb9516e0\",\"type\":\"LinearScale\"},{\"attributes\":{\"bottom_units\":\"screen\",\"fill_alpha\":{\"value\":0.5},\"fill_color\":{\"value\":\"lightgrey\"},\"left_units\":\"screen\",\"level\":\"overlay\",\"line_alpha\":{\"value\":1.0},\"line_color\":{\"value\":\"black\"},\"line_dash\":[4,4],\"line_width\":{\"value\":2},\"plot\":null,\"render_mode\":\"css\",\"right_units\":\"screen\",\"top_units\":\"screen\"},\"id\":\"7ef1a480-3bda-4e26-8cb0-733e4a7a70e9\",\"type\":\"BoxAnnotation\"},{\"attributes\":{\"dimension\":1,\"plot\":{\"id\":\"fd4d22f0-d3b2-4ec6-a241-6701ee143256\",\"subtype\":\"Figure\",\"type\":\"Plot\"},\"ticker\":{\"id\":\"f1feac6c-a421-458d-b7c6-685393ca8d09\",\"type\":\"MercatorTicker\"}},\"id\":\"106d720c-e70d-43bc-88ab-70b3214ab9a0\",\"type\":\"Grid\"},{\"attributes\":{\"label\":{\"value\":\"walk\"},\"renderers\":[{\"id\":\"430eef9f-66b2-45c1-9d6d-a04ff2ebd814\",\"type\":\"GlyphRenderer\"},{\"id\":\"2df0e552-3ce2-4ecf-98e7-d0b0b54be40e\",\"type\":\"GlyphRenderer\"}]},\"id\":\"e984d10f-4b4c-4f99-ba3a-7db4462321cd\",\"type\":\"LegendItem\"},{\"attributes\":{\"dimension\":\"lat\"},\"id\":\"f1feac6c-a421-458d-b7c6-685393ca8d09\",\"type\":\"MercatorTicker\"},{\"attributes\":{\"line_color\":\"#bebada\",\"line_width\":4,\"x\":{\"field\":\"x\"},\"y\":{\"field\":\"y\"}},\"id\":\"eafc5ccc-4b13-4d10-88dc-a73cb99d285e\",\"type\":\"Line\"},{\"attributes\":{\"dimension\":\"lon\"},\"id\":\"6ceb0d1b-628d-4596-bfbc-d1829d82979a\",\"type\":\"MercatorTickFormatter\"},{\"attributes\":{\"formatter\":{\"id\":\"6ceb0d1b-628d-4596-bfbc-d1829d82979a\",\"type\":\"MercatorTickFormatter\"},\"plot\":{\"id\":\"fd4d22f0-d3b2-4ec6-a241-6701ee143256\",\"subtype\":\"Figure\",\"type\":\"Plot\"},\"ticker\":{\"id\":\"1ebe14e6-7e89-4289-a0b1-67747db2697d\",\"type\":\"MercatorTicker\"}},\"id\":\"2ba7f436-e751-4098-81c2-5917f2a3e679\",\"type\":\"MercatorAxis\"},{\"attributes\":{},\"id\":\"780ba092-ceaf-4e4f-a2f4-252a3569f5a6\",\"type\":\"WheelZoomTool\"},{\"attributes\":{\"callback\":null,\"column_names\":[\"x\",\"y\"],\"data\":{\"x\":[951126.5310791694,951201.6717354574],\"y\":[6009506.689208569,6009501.26081944]},\"selected\":null,\"selection_policy\":null},\"id\":\"677e80e1-039a-4518-ba32-4ff5a54e5bd4\",\"type\":\"ColumnDataSource\"},{\"attributes\":{\"formatter\":{\"id\":\"98ecaf4a-faf7-4aef-9229-55d88900117a\",\"type\":\"MercatorTickFormatter\"},\"plot\":{\"id\":\"fd4d22f0-d3b2-4ec6-a241-6701ee143256\",\"subtype\":\"Figure\",\"type\":\"Plot\"},\"ticker\":{\"id\":\"f1feac6c-a421-458d-b7c6-685393ca8d09\",\"type\":\"MercatorTicker\"}},\"id\":\"f0c61ae6-1368-4f51-bfc4-d49854d0e602\",\"type\":\"MercatorAxis\"},{\"attributes\":{\"callback\":null,\"column_names\":[\"x\",\"y\"],\"data\":{\"x\":[951201.6717354574,951319.447756715,951258.110717289,951600.1955124955,951756.8220360434],\"y\":[6009501.26081944,6009804.433337239,6010371.985020746,6010877.713124968,6011206.929361019]},\"selected\":null,\"selection_policy\":null},\"id\":\"5a7e087b-55b9-4269-870d-f36f1ea03000\",\"type\":\"ColumnDataSource\"},{\"attributes\":{\"items\":[{\"id\":\"a1c73b2c-d347-439a-b3e2-f984bd0493ca\",\"type\":\"LegendItem\"},{\"id\":\"e984d10f-4b4c-4f99-ba3a-7db4462321cd\",\"type\":\"LegendItem\"},{\"id\":\"238f2def-0602-4ad6-ba0b-3400663900e2\",\"type\":\"LegendItem\"},{\"id\":\"bb880255-79d7-498c-ab09-b5fc5037bc8e\",\"type\":\"LegendItem\"}],\"plot\":{\"id\":\"fd4d22f0-d3b2-4ec6-a241-6701ee143256\",\"subtype\":\"Figure\",\"type\":\"Plot\"}},\"id\":\"b7cb3c87-11d7-40a6-81ee-c4e65819cdec\",\"type\":\"Legend\"},{\"attributes\":{\"data_source\":{\"id\":\"5c489f3f-efb7-4eb4-9c9d-0497a99facb6\",\"type\":\"ColumnDataSource\"},\"glyph\":{\"id\":\"5663aedf-4244-483e-a079-2f4621a35765\",\"type\":\"Circle\"},\"hover_glyph\":null,\"muted_glyph\":null,\"nonselection_glyph\":{\"id\":\"35585fba-7cc7-4775-b2e3-5f5d7aa677b9\",\"type\":\"Circle\"},\"selection_glyph\":null,\"view\":{\"id\":\"c3f3a2f8-e250-4d20-ac9a-3e42ba85fbd6\",\"type\":\"CDSView\"}},\"id\":\"d9f2b719-8ae6-49ad-9f7c-36edd1a2e4ac\",\"type\":\"GlyphRenderer\"},{\"attributes\":{\"callback\":null,\"tooltips\":[[\"stop name\",\"@desc\"]]},\"id\":\"0e8b4490-e0e5-484d-a73d-0ce06539b237\",\"type\":\"HoverTool\"},{\"attributes\":{\"dimension\":\"lat\"},\"id\":\"98ecaf4a-faf7-4aef-9229-55d88900117a\",\"type\":\"MercatorTickFormatter\"},{\"attributes\":{\"line_alpha\":0.1,\"line_color\":\"#1f77b4\",\"line_width\":4,\"x\":{\"field\":\"x\"},\"y\":{\"field\":\"y\"}},\"id\":\"7ee8ba1d-8225-4051-8d19-8737d0291119\",\"type\":\"Line\"},{\"attributes\":{\"fill_alpha\":{\"value\":0.1},\"fill_color\":{\"value\":\"#1f77b4\"},\"line_alpha\":{\"value\":0.1},\"line_color\":{\"value\":\"#1f77b4\"},\"size\":{\"units\":\"screen\",\"value\":15},\"x\":{\"field\":\"x\"},\"y\":{\"field\":\"y\"}},\"id\":\"35585fba-7cc7-4775-b2e3-5f5d7aa677b9\",\"type\":\"Circle\"},{\"attributes\":{\"level\":\"glyph\",\"plot\":{\"id\":\"fd4d22f0-d3b2-4ec6-a241-6701ee143256\",\"subtype\":\"Figure\",\"type\":\"Plot\"},\"source\":{\"id\":\"5c489f3f-efb7-4eb4-9c9d-0497a99facb6\",\"type\":\"ColumnDataSource\"},\"text\":{\"field\":\"names\"},\"x\":{\"field\":\"x\"},\"x_offset\":{\"value\":-10},\"y\":{\"field\":\"y\"},\"y_offset\":{\"value\":10}},\"id\":\"0960990d-c6e3-4c73-9fe6-cbbbdfa1dd96\",\"type\":\"LabelSet\"},{\"attributes\":{\"dimension\":\"lon\"},\"id\":\"1ebe14e6-7e89-4289-a0b1-67747db2697d\",\"type\":\"MercatorTicker\"},{\"attributes\":{},\"id\":\"9d8811db-5781-4ebc-ba6d-644d4847da28\",\"type\":\"ResetTool\"},{\"attributes\":{\"callback\":null,\"end\":956689.8247167885,\"start\":944689.8247167885},\"id\":\"ea66b923-ef49-4aab-ba38-ffa4f2cb4c1a\",\"type\":\"Range1d\"},{\"attributes\":{\"data_source\":{\"id\":\"677e80e1-039a-4518-ba32-4ff5a54e5bd4\",\"type\":\"ColumnDataSource\"},\"glyph\":{\"id\":\"eafc5ccc-4b13-4d10-88dc-a73cb99d285e\",\"type\":\"Line\"},\"hover_glyph\":null,\"muted_glyph\":null,\"nonselection_glyph\":{\"id\":\"9e9a0680-2b46-4968-8a77-f9a1e432cb3a\",\"type\":\"Line\"},\"selection_glyph\":null,\"view\":{\"id\":\"d8ceaa07-8bac-4d58-b22d-c009797e525a\",\"type\":\"CDSView\"}},\"id\":\"430eef9f-66b2-45c1-9d6d-a04ff2ebd814\",\"type\":\"GlyphRenderer\"},{\"attributes\":{\"plot\":{\"id\":\"fd4d22f0-d3b2-4ec6-a241-6701ee143256\",\"subtype\":\"Figure\",\"type\":\"Plot\"},\"ticker\":{\"id\":\"1ebe14e6-7e89-4289-a0b1-67747db2697d\",\"type\":\"MercatorTicker\"}},\"id\":\"58d9c004-6eb9-4e16-9c52-f8e9cc7c67c8\",\"type\":\"Grid\"},{\"attributes\":{\"label\":{\"value\":\"IR70\"},\"renderers\":[{\"id\":\"c14e2fc4-72a2-49f4-aba9-26f9373c3d19\",\"type\":\"GlyphRenderer\"}]},\"id\":\"a1c73b2c-d347-439a-b3e2-f984bd0493ca\",\"type\":\"LegendItem\"}],\"root_ids\":[\"fd4d22f0-d3b2-4ec6-a241-6701ee143256\"]},\"title\":\"Bokeh Application\",\"version\":\"0.12.15\"}};\n",
       "  var render_items = [{\"docid\":\"5e9941cf-c4b3-4a6c-90eb-294d963146df\",\"elementid\":\"a9b2370d-e9db-42b8-90f7-01c11e29da3a\",\"modelid\":\"fd4d22f0-d3b2-4ec6-a241-6701ee143256\"}];\n",
       "  root.Bokeh.embed.embed_items_notebook(docs_json, render_items);\n",
       "\n",
       "  }\n",
       "  if (root.Bokeh !== undefined) {\n",
       "    embed_document(root);\n",
       "  } else {\n",
       "    var attempts = 0;\n",
       "    var timer = setInterval(function(root) {\n",
       "      if (root.Bokeh !== undefined) {\n",
       "        embed_document(root);\n",
       "        clearInterval(timer);\n",
       "      }\n",
       "      attempts++;\n",
       "      if (attempts > 100) {\n",
       "        console.log(\"Bokeh: ERROR: Unable to run BokehJS code because BokehJS library is missing\")\n",
       "        clearInterval(timer);\n",
       "      }\n",
       "    }, 10, root)\n",
       "  }\n",
       "})(window);"
      ],
      "application/vnd.bokehjs_exec.v0+json": ""
     },
     "metadata": {
      "application/vnd.bokehjs_exec.v0+json": {
       "id": "fd4d22f0-d3b2-4ec6-a241-6701ee143256"
      }
     },
     "output_type": "display_data"
    }
   ],
   "source": [
    "helpers.plot_trip(pandas_df, res[0][0])"
   ]
  },
  {
   "cell_type": "markdown",
   "metadata": {},
   "source": [
    "Now the safest path:"
   ]
  },
  {
   "cell_type": "code",
   "execution_count": 31,
   "metadata": {},
   "outputs": [
    {
     "data": {
      "text/html": [
       "\n",
       "    <div class=\"bk-root\">\n",
       "        <a href=\"https://bokeh.pydata.org\" target=\"_blank\" class=\"bk-logo bk-logo-small bk-logo-notebook\"></a>\n",
       "        <span id=\"a115bae1-2715-47ee-ba3b-b4c2cdd55755\">Loading BokehJS ...</span>\n",
       "    </div>"
      ]
     },
     "metadata": {},
     "output_type": "display_data"
    },
    {
     "data": {
      "application/javascript": [
       "\n",
       "(function(root) {\n",
       "  function now() {\n",
       "    return new Date();\n",
       "  }\n",
       "\n",
       "  var force = true;\n",
       "\n",
       "  if (typeof (root._bokeh_onload_callbacks) === \"undefined\" || force === true) {\n",
       "    root._bokeh_onload_callbacks = [];\n",
       "    root._bokeh_is_loading = undefined;\n",
       "  }\n",
       "\n",
       "  var JS_MIME_TYPE = 'application/javascript';\n",
       "  var HTML_MIME_TYPE = 'text/html';\n",
       "  var EXEC_MIME_TYPE = 'application/vnd.bokehjs_exec.v0+json';\n",
       "  var CLASS_NAME = 'output_bokeh rendered_html';\n",
       "\n",
       "  /**\n",
       "   * Render data to the DOM node\n",
       "   */\n",
       "  function render(props, node) {\n",
       "    var script = document.createElement(\"script\");\n",
       "    node.appendChild(script);\n",
       "  }\n",
       "\n",
       "  /**\n",
       "   * Handle when an output is cleared or removed\n",
       "   */\n",
       "  function handleClearOutput(event, handle) {\n",
       "    var cell = handle.cell;\n",
       "\n",
       "    var id = cell.output_area._bokeh_element_id;\n",
       "    var server_id = cell.output_area._bokeh_server_id;\n",
       "    // Clean up Bokeh references\n",
       "    if (id !== undefined) {\n",
       "      Bokeh.index[id].model.document.clear();\n",
       "      delete Bokeh.index[id];\n",
       "    }\n",
       "\n",
       "    if (server_id !== undefined) {\n",
       "      // Clean up Bokeh references\n",
       "      var cmd = \"from bokeh.io.state import curstate; print(curstate().uuid_to_server['\" + server_id + \"'].get_sessions()[0].document.roots[0]._id)\";\n",
       "      cell.notebook.kernel.execute(cmd, {\n",
       "        iopub: {\n",
       "          output: function(msg) {\n",
       "            var element_id = msg.content.text.trim();\n",
       "            Bokeh.index[element_id].model.document.clear();\n",
       "            delete Bokeh.index[element_id];\n",
       "          }\n",
       "        }\n",
       "      });\n",
       "      // Destroy server and session\n",
       "      var cmd = \"import bokeh.io.notebook as ion; ion.destroy_server('\" + server_id + \"')\";\n",
       "      cell.notebook.kernel.execute(cmd);\n",
       "    }\n",
       "  }\n",
       "\n",
       "  /**\n",
       "   * Handle when a new output is added\n",
       "   */\n",
       "  function handleAddOutput(event, handle) {\n",
       "    var output_area = handle.output_area;\n",
       "    var output = handle.output;\n",
       "\n",
       "    // limit handleAddOutput to display_data with EXEC_MIME_TYPE content only\n",
       "    if ((output.output_type != \"display_data\") || (!output.data.hasOwnProperty(EXEC_MIME_TYPE))) {\n",
       "      return\n",
       "    }\n",
       "\n",
       "    var toinsert = output_area.element.find(\".\" + CLASS_NAME.split(' ')[0]);\n",
       "\n",
       "    if (output.metadata[EXEC_MIME_TYPE][\"id\"] !== undefined) {\n",
       "      toinsert[toinsert.length - 1].firstChild.textContent = output.data[JS_MIME_TYPE];\n",
       "      // store reference to embed id on output_area\n",
       "      output_area._bokeh_element_id = output.metadata[EXEC_MIME_TYPE][\"id\"];\n",
       "    }\n",
       "    if (output.metadata[EXEC_MIME_TYPE][\"server_id\"] !== undefined) {\n",
       "      var bk_div = document.createElement(\"div\");\n",
       "      bk_div.innerHTML = output.data[HTML_MIME_TYPE];\n",
       "      var script_attrs = bk_div.children[0].attributes;\n",
       "      for (var i = 0; i < script_attrs.length; i++) {\n",
       "        toinsert[toinsert.length - 1].firstChild.setAttribute(script_attrs[i].name, script_attrs[i].value);\n",
       "      }\n",
       "      // store reference to server id on output_area\n",
       "      output_area._bokeh_server_id = output.metadata[EXEC_MIME_TYPE][\"server_id\"];\n",
       "    }\n",
       "  }\n",
       "\n",
       "  function register_renderer(events, OutputArea) {\n",
       "\n",
       "    function append_mime(data, metadata, element) {\n",
       "      // create a DOM node to render to\n",
       "      var toinsert = this.create_output_subarea(\n",
       "        metadata,\n",
       "        CLASS_NAME,\n",
       "        EXEC_MIME_TYPE\n",
       "      );\n",
       "      this.keyboard_manager.register_events(toinsert);\n",
       "      // Render to node\n",
       "      var props = {data: data, metadata: metadata[EXEC_MIME_TYPE]};\n",
       "      render(props, toinsert[toinsert.length - 1]);\n",
       "      element.append(toinsert);\n",
       "      return toinsert\n",
       "    }\n",
       "\n",
       "    /* Handle when an output is cleared or removed */\n",
       "    events.on('clear_output.CodeCell', handleClearOutput);\n",
       "    events.on('delete.Cell', handleClearOutput);\n",
       "\n",
       "    /* Handle when a new output is added */\n",
       "    events.on('output_added.OutputArea', handleAddOutput);\n",
       "\n",
       "    /**\n",
       "     * Register the mime type and append_mime function with output_area\n",
       "     */\n",
       "    OutputArea.prototype.register_mime_type(EXEC_MIME_TYPE, append_mime, {\n",
       "      /* Is output safe? */\n",
       "      safe: true,\n",
       "      /* Index of renderer in `output_area.display_order` */\n",
       "      index: 0\n",
       "    });\n",
       "  }\n",
       "\n",
       "  // register the mime type if in Jupyter Notebook environment and previously unregistered\n",
       "  if (root.Jupyter !== undefined) {\n",
       "    var events = require('base/js/events');\n",
       "    var OutputArea = require('notebook/js/outputarea').OutputArea;\n",
       "\n",
       "    if (OutputArea.prototype.mime_types().indexOf(EXEC_MIME_TYPE) == -1) {\n",
       "      register_renderer(events, OutputArea);\n",
       "    }\n",
       "  }\n",
       "\n",
       "  \n",
       "  if (typeof (root._bokeh_timeout) === \"undefined\" || force === true) {\n",
       "    root._bokeh_timeout = Date.now() + 5000;\n",
       "    root._bokeh_failed_load = false;\n",
       "  }\n",
       "\n",
       "  var NB_LOAD_WARNING = {'data': {'text/html':\n",
       "     \"<div style='background-color: #fdd'>\\n\"+\n",
       "     \"<p>\\n\"+\n",
       "     \"BokehJS does not appear to have successfully loaded. If loading BokehJS from CDN, this \\n\"+\n",
       "     \"may be due to a slow or bad network connection. Possible fixes:\\n\"+\n",
       "     \"</p>\\n\"+\n",
       "     \"<ul>\\n\"+\n",
       "     \"<li>re-rerun `output_notebook()` to attempt to load from CDN again, or</li>\\n\"+\n",
       "     \"<li>use INLINE resources instead, as so:</li>\\n\"+\n",
       "     \"</ul>\\n\"+\n",
       "     \"<code>\\n\"+\n",
       "     \"from bokeh.resources import INLINE\\n\"+\n",
       "     \"output_notebook(resources=INLINE)\\n\"+\n",
       "     \"</code>\\n\"+\n",
       "     \"</div>\"}};\n",
       "\n",
       "  function display_loaded() {\n",
       "    var el = document.getElementById(\"a115bae1-2715-47ee-ba3b-b4c2cdd55755\");\n",
       "    if (el != null) {\n",
       "      el.textContent = \"BokehJS is loading...\";\n",
       "    }\n",
       "    if (root.Bokeh !== undefined) {\n",
       "      if (el != null) {\n",
       "        el.textContent = \"BokehJS \" + root.Bokeh.version + \" successfully loaded.\";\n",
       "      }\n",
       "    } else if (Date.now() < root._bokeh_timeout) {\n",
       "      setTimeout(display_loaded, 100)\n",
       "    }\n",
       "  }\n",
       "\n",
       "\n",
       "  function run_callbacks() {\n",
       "    try {\n",
       "      root._bokeh_onload_callbacks.forEach(function(callback) { callback() });\n",
       "    }\n",
       "    finally {\n",
       "      delete root._bokeh_onload_callbacks\n",
       "    }\n",
       "    console.info(\"Bokeh: all callbacks have finished\");\n",
       "  }\n",
       "\n",
       "  function load_libs(js_urls, callback) {\n",
       "    root._bokeh_onload_callbacks.push(callback);\n",
       "    if (root._bokeh_is_loading > 0) {\n",
       "      console.log(\"Bokeh: BokehJS is being loaded, scheduling callback at\", now());\n",
       "      return null;\n",
       "    }\n",
       "    if (js_urls == null || js_urls.length === 0) {\n",
       "      run_callbacks();\n",
       "      return null;\n",
       "    }\n",
       "    console.log(\"Bokeh: BokehJS not loaded, scheduling load and callback at\", now());\n",
       "    root._bokeh_is_loading = js_urls.length;\n",
       "    for (var i = 0; i < js_urls.length; i++) {\n",
       "      var url = js_urls[i];\n",
       "      var s = document.createElement('script');\n",
       "      s.src = url;\n",
       "      s.async = false;\n",
       "      s.onreadystatechange = s.onload = function() {\n",
       "        root._bokeh_is_loading--;\n",
       "        if (root._bokeh_is_loading === 0) {\n",
       "          console.log(\"Bokeh: all BokehJS libraries loaded\");\n",
       "          run_callbacks()\n",
       "        }\n",
       "      };\n",
       "      s.onerror = function() {\n",
       "        console.warn(\"failed to load library \" + url);\n",
       "      };\n",
       "      console.log(\"Bokeh: injecting script tag for BokehJS library: \", url);\n",
       "      document.getElementsByTagName(\"head\")[0].appendChild(s);\n",
       "    }\n",
       "  };var element = document.getElementById(\"a115bae1-2715-47ee-ba3b-b4c2cdd55755\");\n",
       "  if (element == null) {\n",
       "    console.log(\"Bokeh: ERROR: autoload.js configured with elementid 'a115bae1-2715-47ee-ba3b-b4c2cdd55755' but no matching script tag was found. \")\n",
       "    return false;\n",
       "  }\n",
       "\n",
       "  var js_urls = [\"https://cdn.pydata.org/bokeh/release/bokeh-0.12.15.min.js\", \"https://cdn.pydata.org/bokeh/release/bokeh-widgets-0.12.15.min.js\", \"https://cdn.pydata.org/bokeh/release/bokeh-tables-0.12.15.min.js\", \"https://cdn.pydata.org/bokeh/release/bokeh-gl-0.12.15.min.js\"];\n",
       "\n",
       "  var inline_js = [\n",
       "    function(Bokeh) {\n",
       "      Bokeh.set_log_level(\"info\");\n",
       "    },\n",
       "    \n",
       "    function(Bokeh) {\n",
       "      \n",
       "    },\n",
       "    function(Bokeh) {\n",
       "      console.log(\"Bokeh: injecting CSS: https://cdn.pydata.org/bokeh/release/bokeh-0.12.15.min.css\");\n",
       "      Bokeh.embed.inject_css(\"https://cdn.pydata.org/bokeh/release/bokeh-0.12.15.min.css\");\n",
       "      console.log(\"Bokeh: injecting CSS: https://cdn.pydata.org/bokeh/release/bokeh-widgets-0.12.15.min.css\");\n",
       "      Bokeh.embed.inject_css(\"https://cdn.pydata.org/bokeh/release/bokeh-widgets-0.12.15.min.css\");\n",
       "      console.log(\"Bokeh: injecting CSS: https://cdn.pydata.org/bokeh/release/bokeh-tables-0.12.15.min.css\");\n",
       "      Bokeh.embed.inject_css(\"https://cdn.pydata.org/bokeh/release/bokeh-tables-0.12.15.min.css\");\n",
       "    }\n",
       "  ];\n",
       "\n",
       "  function run_inline_js() {\n",
       "    \n",
       "    if ((root.Bokeh !== undefined) || (force === true)) {\n",
       "      for (var i = 0; i < inline_js.length; i++) {\n",
       "        inline_js[i].call(root, root.Bokeh);\n",
       "      }if (force === true) {\n",
       "        display_loaded();\n",
       "      }} else if (Date.now() < root._bokeh_timeout) {\n",
       "      setTimeout(run_inline_js, 100);\n",
       "    } else if (!root._bokeh_failed_load) {\n",
       "      console.log(\"Bokeh: BokehJS failed to load within specified timeout.\");\n",
       "      root._bokeh_failed_load = true;\n",
       "    } else if (force !== true) {\n",
       "      var cell = $(document.getElementById(\"a115bae1-2715-47ee-ba3b-b4c2cdd55755\")).parents('.cell').data().cell;\n",
       "      cell.output_area.append_execute_result(NB_LOAD_WARNING)\n",
       "    }\n",
       "\n",
       "  }\n",
       "\n",
       "  if (root._bokeh_is_loading === 0) {\n",
       "    console.log(\"Bokeh: BokehJS loaded, going straight to plotting\");\n",
       "    run_inline_js();\n",
       "  } else {\n",
       "    load_libs(js_urls, function() {\n",
       "      console.log(\"Bokeh: BokehJS plotting callback run at\", now());\n",
       "      run_inline_js();\n",
       "    });\n",
       "  }\n",
       "}(window));"
      ],
      "application/vnd.bokehjs_load.v0+json": "\n(function(root) {\n  function now() {\n    return new Date();\n  }\n\n  var force = true;\n\n  if (typeof (root._bokeh_onload_callbacks) === \"undefined\" || force === true) {\n    root._bokeh_onload_callbacks = [];\n    root._bokeh_is_loading = undefined;\n  }\n\n  \n\n  \n  if (typeof (root._bokeh_timeout) === \"undefined\" || force === true) {\n    root._bokeh_timeout = Date.now() + 5000;\n    root._bokeh_failed_load = false;\n  }\n\n  var NB_LOAD_WARNING = {'data': {'text/html':\n     \"<div style='background-color: #fdd'>\\n\"+\n     \"<p>\\n\"+\n     \"BokehJS does not appear to have successfully loaded. If loading BokehJS from CDN, this \\n\"+\n     \"may be due to a slow or bad network connection. Possible fixes:\\n\"+\n     \"</p>\\n\"+\n     \"<ul>\\n\"+\n     \"<li>re-rerun `output_notebook()` to attempt to load from CDN again, or</li>\\n\"+\n     \"<li>use INLINE resources instead, as so:</li>\\n\"+\n     \"</ul>\\n\"+\n     \"<code>\\n\"+\n     \"from bokeh.resources import INLINE\\n\"+\n     \"output_notebook(resources=INLINE)\\n\"+\n     \"</code>\\n\"+\n     \"</div>\"}};\n\n  function display_loaded() {\n    var el = document.getElementById(\"a115bae1-2715-47ee-ba3b-b4c2cdd55755\");\n    if (el != null) {\n      el.textContent = \"BokehJS is loading...\";\n    }\n    if (root.Bokeh !== undefined) {\n      if (el != null) {\n        el.textContent = \"BokehJS \" + root.Bokeh.version + \" successfully loaded.\";\n      }\n    } else if (Date.now() < root._bokeh_timeout) {\n      setTimeout(display_loaded, 100)\n    }\n  }\n\n\n  function run_callbacks() {\n    try {\n      root._bokeh_onload_callbacks.forEach(function(callback) { callback() });\n    }\n    finally {\n      delete root._bokeh_onload_callbacks\n    }\n    console.info(\"Bokeh: all callbacks have finished\");\n  }\n\n  function load_libs(js_urls, callback) {\n    root._bokeh_onload_callbacks.push(callback);\n    if (root._bokeh_is_loading > 0) {\n      console.log(\"Bokeh: BokehJS is being loaded, scheduling callback at\", now());\n      return null;\n    }\n    if (js_urls == null || js_urls.length === 0) {\n      run_callbacks();\n      return null;\n    }\n    console.log(\"Bokeh: BokehJS not loaded, scheduling load and callback at\", now());\n    root._bokeh_is_loading = js_urls.length;\n    for (var i = 0; i < js_urls.length; i++) {\n      var url = js_urls[i];\n      var s = document.createElement('script');\n      s.src = url;\n      s.async = false;\n      s.onreadystatechange = s.onload = function() {\n        root._bokeh_is_loading--;\n        if (root._bokeh_is_loading === 0) {\n          console.log(\"Bokeh: all BokehJS libraries loaded\");\n          run_callbacks()\n        }\n      };\n      s.onerror = function() {\n        console.warn(\"failed to load library \" + url);\n      };\n      console.log(\"Bokeh: injecting script tag for BokehJS library: \", url);\n      document.getElementsByTagName(\"head\")[0].appendChild(s);\n    }\n  };var element = document.getElementById(\"a115bae1-2715-47ee-ba3b-b4c2cdd55755\");\n  if (element == null) {\n    console.log(\"Bokeh: ERROR: autoload.js configured with elementid 'a115bae1-2715-47ee-ba3b-b4c2cdd55755' but no matching script tag was found. \")\n    return false;\n  }\n\n  var js_urls = [\"https://cdn.pydata.org/bokeh/release/bokeh-0.12.15.min.js\", \"https://cdn.pydata.org/bokeh/release/bokeh-widgets-0.12.15.min.js\", \"https://cdn.pydata.org/bokeh/release/bokeh-tables-0.12.15.min.js\", \"https://cdn.pydata.org/bokeh/release/bokeh-gl-0.12.15.min.js\"];\n\n  var inline_js = [\n    function(Bokeh) {\n      Bokeh.set_log_level(\"info\");\n    },\n    \n    function(Bokeh) {\n      \n    },\n    function(Bokeh) {\n      console.log(\"Bokeh: injecting CSS: https://cdn.pydata.org/bokeh/release/bokeh-0.12.15.min.css\");\n      Bokeh.embed.inject_css(\"https://cdn.pydata.org/bokeh/release/bokeh-0.12.15.min.css\");\n      console.log(\"Bokeh: injecting CSS: https://cdn.pydata.org/bokeh/release/bokeh-widgets-0.12.15.min.css\");\n      Bokeh.embed.inject_css(\"https://cdn.pydata.org/bokeh/release/bokeh-widgets-0.12.15.min.css\");\n      console.log(\"Bokeh: injecting CSS: https://cdn.pydata.org/bokeh/release/bokeh-tables-0.12.15.min.css\");\n      Bokeh.embed.inject_css(\"https://cdn.pydata.org/bokeh/release/bokeh-tables-0.12.15.min.css\");\n    }\n  ];\n\n  function run_inline_js() {\n    \n    if ((root.Bokeh !== undefined) || (force === true)) {\n      for (var i = 0; i < inline_js.length; i++) {\n        inline_js[i].call(root, root.Bokeh);\n      }if (force === true) {\n        display_loaded();\n      }} else if (Date.now() < root._bokeh_timeout) {\n      setTimeout(run_inline_js, 100);\n    } else if (!root._bokeh_failed_load) {\n      console.log(\"Bokeh: BokehJS failed to load within specified timeout.\");\n      root._bokeh_failed_load = true;\n    } else if (force !== true) {\n      var cell = $(document.getElementById(\"a115bae1-2715-47ee-ba3b-b4c2cdd55755\")).parents('.cell').data().cell;\n      cell.output_area.append_execute_result(NB_LOAD_WARNING)\n    }\n\n  }\n\n  if (root._bokeh_is_loading === 0) {\n    console.log(\"Bokeh: BokehJS loaded, going straight to plotting\");\n    run_inline_js();\n  } else {\n    load_libs(js_urls, function() {\n      console.log(\"Bokeh: BokehJS plotting callback run at\", now());\n      run_inline_js();\n    });\n  }\n}(window));"
     },
     "metadata": {},
     "output_type": "display_data"
    },
    {
     "data": {
      "text/html": [
       "\n",
       "<div class=\"bk-root\">\n",
       "    <div class=\"bk-plotdiv\" id=\"7b2fba9b-2a39-4b63-aa6e-4e4582d64fe5\"></div>\n",
       "</div>"
      ]
     },
     "metadata": {},
     "output_type": "display_data"
    },
    {
     "data": {
      "application/javascript": [
       "(function(root) {\n",
       "  function embed_document(root) {\n",
       "    \n",
       "  var docs_json = {\"435b8e39-2422-40a3-b3cb-bf4c06c487b0\":{\"roots\":{\"references\":[{\"attributes\":{\"active_drag\":\"auto\",\"active_inspect\":\"auto\",\"active_scroll\":\"auto\",\"active_tap\":\"auto\",\"tools\":[{\"id\":\"ad78bc81-4996-46fe-8316-762070df78ed\",\"type\":\"HoverTool\"},{\"id\":\"945d15a8-e275-4297-9c3e-499a10abf8fa\",\"type\":\"PanTool\"},{\"id\":\"a9955212-4b5b-480e-a053-13a82d1a72c2\",\"type\":\"WheelZoomTool\"},{\"id\":\"32d89ede-803b-4c85-9422-25c49a6dd036\",\"type\":\"BoxZoomTool\"},{\"id\":\"09be0d3a-dff0-4a61-9b9d-738aa346d1d8\",\"type\":\"ResetTool\"}]},\"id\":\"1c75848d-afc5-4b39-bb89-0192a01fd9bd\",\"type\":\"Toolbar\"},{\"attributes\":{\"callback\":null,\"column_names\":[\"x\",\"y\"],\"data\":{\"x\":[951184.5285338726,951600.1955124955,951756.8220360434,951621.2348962564],\"y\":[6010694.107705805,6010877.713124968,6011206.929361019,6011642.613062038]},\"selected\":null,\"selection_policy\":null},\"id\":\"fe200218-b30c-4b05-88d1-2951961b39a2\",\"type\":\"ColumnDataSource\"},{\"attributes\":{\"callback\":null,\"end\":956689.8247167885,\"start\":944689.8247167885},\"id\":\"1548afe3-368b-461d-aeee-bc8e4ac72781\",\"type\":\"Range1d\"},{\"attributes\":{\"label\":{\"value\":\"75\"},\"renderers\":[{\"id\":\"7dda4819-f0f4-4d54-a237-5363fa7cddc1\",\"type\":\"GlyphRenderer\"}]},\"id\":\"60a0e126-8293-4c5c-a4cd-13c8b753f6e0\",\"type\":\"LegendItem\"},{\"attributes\":{\"callback\":null,\"tooltips\":[[\"stop name\",\"@desc\"]]},\"id\":\"ad78bc81-4996-46fe-8316-762070df78ed\",\"type\":\"HoverTool\"},{\"attributes\":{\"label\":{\"value\":\"walk\"},\"renderers\":[{\"id\":\"23d56dc6-7225-413f-80a8-8eeefef7853e\",\"type\":\"GlyphRenderer\"}]},\"id\":\"073cf179-847c-4c06-8a24-ccf6a31c0a03\",\"type\":\"LegendItem\"},{\"attributes\":{\"plot\":{\"id\":\"2f41e4ac-8cc8-4fac-9862-2e50406134fa\",\"subtype\":\"Figure\",\"type\":\"Plot\"},\"ticker\":{\"id\":\"54d00f41-3207-42b3-95fd-76d296f53853\",\"type\":\"MercatorTicker\"}},\"id\":\"d3de834e-c9ca-416a-9305-bdc9ba5e4558\",\"type\":\"Grid\"},{\"attributes\":{},\"id\":\"d39736f7-883d-421b-b8da-6d2bb2fdad3e\",\"type\":\"LinearScale\"},{\"attributes\":{\"line_color\":\"#bebada\",\"line_width\":4,\"x\":{\"field\":\"x\"},\"y\":{\"field\":\"y\"}},\"id\":\"e8e156c7-5c1d-4275-8cc4-ec1dca4aa8ba\",\"type\":\"Line\"},{\"attributes\":{\"data_source\":{\"id\":\"e5ccf127-da9a-44ab-a709-a1a821956872\",\"type\":\"ColumnDataSource\"},\"glyph\":{\"id\":\"21b48cdd-5c05-4881-983d-07a5d473e16d\",\"type\":\"Line\"},\"hover_glyph\":null,\"muted_glyph\":null,\"nonselection_glyph\":{\"id\":\"a7bebd0e-4b6b-48bd-9f96-7e942fb3bb46\",\"type\":\"Line\"},\"selection_glyph\":null,\"view\":{\"id\":\"7a0dded0-6b87-4ec9-9992-1f49847487f4\",\"type\":\"CDSView\"}},\"id\":\"7dda4819-f0f4-4d54-a237-5363fa7cddc1\",\"type\":\"GlyphRenderer\"},{\"attributes\":{},\"id\":\"3c6ad887-e4d6-4e7f-b32b-9e2af0e912b3\",\"type\":\"LinearScale\"},{\"attributes\":{\"callback\":null,\"end\":6010022.131701146,\"start\":5998022.131701146},\"id\":\"e81f8f4b-57e8-4894-ac14-9053bf7cc9f2\",\"type\":\"Range1d\"},{\"attributes\":{\"dimension\":\"lon\"},\"id\":\"60f1ac38-1826-4754-a29e-66a64a2f18e4\",\"type\":\"MercatorTickFormatter\"},{\"attributes\":{\"source\":{\"id\":\"e5ccf127-da9a-44ab-a709-a1a821956872\",\"type\":\"ColumnDataSource\"}},\"id\":\"7a0dded0-6b87-4ec9-9992-1f49847487f4\",\"type\":\"CDSView\"},{\"attributes\":{\"dimension\":\"lon\"},\"id\":\"54d00f41-3207-42b3-95fd-76d296f53853\",\"type\":\"MercatorTicker\"},{\"attributes\":{\"attribution\":\"&copy; <a href=\\\"https://www.openstreetmap.org/copyright\\\">OpenStreetMap</a> contributors,&copy; <a href=\\\"https://cartodb.com/attributions\\\">CartoDB</a>\",\"url\":\"https://tiles.basemaps.cartocdn.com/light_all/{z}/{x}/{y}.png\"},\"id\":\"41354cc2-d46e-4fdc-bd74-aedf5a61fdd1\",\"type\":\"WMTSTileSource\"},{\"attributes\":{\"data_source\":{\"id\":\"fe200218-b30c-4b05-88d1-2951961b39a2\",\"type\":\"ColumnDataSource\"},\"glyph\":{\"id\":\"e8e156c7-5c1d-4275-8cc4-ec1dca4aa8ba\",\"type\":\"Line\"},\"hover_glyph\":null,\"muted_glyph\":null,\"nonselection_glyph\":{\"id\":\"6f1a49b9-0da6-416d-a8f5-85dd1c15421a\",\"type\":\"Line\"},\"selection_glyph\":null,\"view\":{\"id\":\"97bf3d1f-84b4-4c64-8344-0c13174a6563\",\"type\":\"CDSView\"}},\"id\":\"23d56dc6-7225-413f-80a8-8eeefef7853e\",\"type\":\"GlyphRenderer\"},{\"attributes\":{\"formatter\":{\"id\":\"60f1ac38-1826-4754-a29e-66a64a2f18e4\",\"type\":\"MercatorTickFormatter\"},\"plot\":{\"id\":\"2f41e4ac-8cc8-4fac-9862-2e50406134fa\",\"subtype\":\"Figure\",\"type\":\"Plot\"},\"ticker\":{\"id\":\"54d00f41-3207-42b3-95fd-76d296f53853\",\"type\":\"MercatorTicker\"}},\"id\":\"5d1b58b3-0fa3-4d74-87c9-81b5874f9155\",\"type\":\"MercatorAxis\"},{\"attributes\":{\"dimension\":1,\"plot\":{\"id\":\"2f41e4ac-8cc8-4fac-9862-2e50406134fa\",\"subtype\":\"Figure\",\"type\":\"Plot\"},\"ticker\":{\"id\":\"212a6a95-bcda-4267-8867-128c498cd419\",\"type\":\"MercatorTicker\"}},\"id\":\"78395d83-a158-4177-bebc-819d09ebcc5b\",\"type\":\"Grid\"},{\"attributes\":{\"formatter\":{\"id\":\"9a1898e5-ce2d-459e-8297-19a9433c3de4\",\"type\":\"MercatorTickFormatter\"},\"plot\":{\"id\":\"2f41e4ac-8cc8-4fac-9862-2e50406134fa\",\"subtype\":\"Figure\",\"type\":\"Plot\"},\"ticker\":{\"id\":\"212a6a95-bcda-4267-8867-128c498cd419\",\"type\":\"MercatorTicker\"}},\"id\":\"1a54b933-0925-44ff-b973-d7da079fc4f2\",\"type\":\"MercatorAxis\"},{\"attributes\":{\"dimension\":\"lat\"},\"id\":\"9a1898e5-ce2d-459e-8297-19a9433c3de4\",\"type\":\"MercatorTickFormatter\"},{\"attributes\":{\"line_alpha\":0.1,\"line_color\":\"#1f77b4\",\"line_width\":4,\"x\":{\"field\":\"x\"},\"y\":{\"field\":\"y\"}},\"id\":\"6f1a49b9-0da6-416d-a8f5-85dd1c15421a\",\"type\":\"Line\"},{\"attributes\":{\"source\":{\"id\":\"fe200218-b30c-4b05-88d1-2951961b39a2\",\"type\":\"ColumnDataSource\"}},\"id\":\"97bf3d1f-84b4-4c64-8344-0c13174a6563\",\"type\":\"CDSView\"},{\"attributes\":{\"dimension\":\"lat\"},\"id\":\"212a6a95-bcda-4267-8867-128c498cd419\",\"type\":\"MercatorTicker\"},{\"attributes\":{\"source\":{\"id\":\"28d150e2-5f7f-43af-9110-839365c9d1d8\",\"type\":\"ColumnDataSource\"}},\"id\":\"4feec3de-8ecd-4a03-b247-e1820d580607\",\"type\":\"CDSView\"},{\"attributes\":{\"tile_source\":{\"id\":\"41354cc2-d46e-4fdc-bd74-aedf5a61fdd1\",\"type\":\"WMTSTileSource\"}},\"id\":\"6389807c-c832-43a5-a2ee-6d56463ed74d\",\"type\":\"TileRenderer\"},{\"attributes\":{\"line_alpha\":0.1,\"line_color\":\"#1f77b4\",\"line_width\":4,\"x\":{\"field\":\"x\"},\"y\":{\"field\":\"y\"}},\"id\":\"ac093747-d05d-41ce-8f05-2b751511e248\",\"type\":\"Line\"},{\"attributes\":{\"bottom_units\":\"screen\",\"fill_alpha\":{\"value\":0.5},\"fill_color\":{\"value\":\"lightgrey\"},\"left_units\":\"screen\",\"level\":\"overlay\",\"line_alpha\":{\"value\":1.0},\"line_color\":{\"value\":\"black\"},\"line_dash\":[4,4],\"line_width\":{\"value\":2},\"plot\":null,\"render_mode\":\"css\",\"right_units\":\"screen\",\"top_units\":\"screen\"},\"id\":\"462f4c76-ee03-41ff-9eb9-e776f0df978f\",\"type\":\"BoxAnnotation\"},{\"attributes\":{\"data_source\":{\"id\":\"28d150e2-5f7f-43af-9110-839365c9d1d8\",\"type\":\"ColumnDataSource\"},\"glyph\":{\"id\":\"b55eb1bd-2420-4fcf-bfd6-de4a85ff230e\",\"type\":\"Circle\"},\"hover_glyph\":null,\"muted_glyph\":null,\"nonselection_glyph\":{\"id\":\"fc34dc40-e2a8-460b-b8fe-d59239045118\",\"type\":\"Circle\"},\"selection_glyph\":null,\"view\":{\"id\":\"4feec3de-8ecd-4a03-b247-e1820d580607\",\"type\":\"CDSView\"}},\"id\":\"3c661f2e-7b8a-4eab-aaef-32f4272409e8\",\"type\":\"GlyphRenderer\"},{\"attributes\":{\"line_alpha\":0.1,\"line_color\":\"#1f77b4\",\"line_width\":4,\"x\":{\"field\":\"x\"},\"y\":{\"field\":\"y\"}},\"id\":\"a7bebd0e-4b6b-48bd-9f96-7e942fb3bb46\",\"type\":\"Line\"},{\"attributes\":{\"callback\":null,\"column_names\":[\"x\",\"y\"],\"data\":{\"x\":[951621.2348962564,951352.064367519],\"y\":[6011642.613062038,6012118.467883472]},\"selected\":null,\"selection_policy\":null},\"id\":\"e5ccf127-da9a-44ab-a709-a1a821956872\",\"type\":\"ColumnDataSource\"},{\"attributes\":{\"label\":{\"value\":\"S6\"},\"renderers\":[{\"id\":\"6f5868f9-9e4f-42f7-805f-4ef290fee231\",\"type\":\"GlyphRenderer\"}]},\"id\":\"5d9bda57-e3f1-405e-841c-080b646951c8\",\"type\":\"LegendItem\"},{\"attributes\":{\"items\":[{\"id\":\"13e252f9-fd27-44c7-8d55-025816c84e41\",\"type\":\"LegendItem\"},{\"id\":\"5d9bda57-e3f1-405e-841c-080b646951c8\",\"type\":\"LegendItem\"},{\"id\":\"073cf179-847c-4c06-8a24-ccf6a31c0a03\",\"type\":\"LegendItem\"},{\"id\":\"60a0e126-8293-4c5c-a4cd-13c8b753f6e0\",\"type\":\"LegendItem\"}],\"plot\":{\"id\":\"2f41e4ac-8cc8-4fac-9862-2e50406134fa\",\"subtype\":\"Figure\",\"type\":\"Plot\"}},\"id\":\"4a21bff9-df10-4baa-a785-d6cc3e61b0f7\",\"type\":\"Legend\"},{\"attributes\":{},\"id\":\"945d15a8-e275-4297-9c3e-499a10abf8fa\",\"type\":\"PanTool\"},{\"attributes\":{\"callback\":null,\"column_names\":[\"x\",\"y\"],\"data\":{\"x\":[950689.8247167885,951126.5310791694],\"y\":[6004022.131701146,6009506.689208569]},\"selected\":null,\"selection_policy\":null},\"id\":\"df2a026c-7d7e-43a8-80cb-f8ca8cfa0985\",\"type\":\"ColumnDataSource\"},{\"attributes\":{\"fill_color\":{\"value\":\"#000000\"},\"line_color\":{\"value\":\"#1f77b4\"},\"size\":{\"units\":\"screen\",\"value\":15},\"x\":{\"field\":\"x\"},\"y\":{\"field\":\"y\"}},\"id\":\"b55eb1bd-2420-4fcf-bfd6-de4a85ff230e\",\"type\":\"Circle\"},{\"attributes\":{\"fill_alpha\":{\"value\":0.1},\"fill_color\":{\"value\":\"#1f77b4\"},\"line_alpha\":{\"value\":0.1},\"line_color\":{\"value\":\"#1f77b4\"},\"size\":{\"units\":\"screen\",\"value\":15},\"x\":{\"field\":\"x\"},\"y\":{\"field\":\"y\"}},\"id\":\"fc34dc40-e2a8-460b-b8fe-d59239045118\",\"type\":\"Circle\"},{\"attributes\":{},\"id\":\"a9955212-4b5b-480e-a053-13a82d1a72c2\",\"type\":\"WheelZoomTool\"},{\"attributes\":{},\"id\":\"09be0d3a-dff0-4a61-9b9d-738aa346d1d8\",\"type\":\"ResetTool\"},{\"attributes\":{\"overlay\":{\"id\":\"462f4c76-ee03-41ff-9eb9-e776f0df978f\",\"type\":\"BoxAnnotation\"}},\"id\":\"32d89ede-803b-4c85-9422-25c49a6dd036\",\"type\":\"BoxZoomTool\"},{\"attributes\":{\"data_source\":{\"id\":\"df2a026c-7d7e-43a8-80cb-f8ca8cfa0985\",\"type\":\"ColumnDataSource\"},\"glyph\":{\"id\":\"336ec31f-fb81-4985-8c26-5e5306cc7d17\",\"type\":\"Line\"},\"hover_glyph\":null,\"muted_glyph\":null,\"nonselection_glyph\":{\"id\":\"6289d092-704a-4b56-bf5c-388cdf6bd9f0\",\"type\":\"Line\"},\"selection_glyph\":null,\"view\":{\"id\":\"d6e17f23-18f0-4ac0-a93c-dee660bf2a82\",\"type\":\"CDSView\"}},\"id\":\"8ccdfb33-2c04-4cdf-a570-a29f52647ae6\",\"type\":\"GlyphRenderer\"},{\"attributes\":{\"plot\":null,\"text\":\"\"},\"id\":\"a40696f7-6dda-4012-b170-e2cf9b087004\",\"type\":\"Title\"},{\"attributes\":{\"line_color\":\"#8dd3c7\",\"line_width\":4,\"x\":{\"field\":\"x\"},\"y\":{\"field\":\"y\"}},\"id\":\"336ec31f-fb81-4985-8c26-5e5306cc7d17\",\"type\":\"Line\"},{\"attributes\":{\"label\":{\"value\":\"IR70\"},\"renderers\":[{\"id\":\"8ccdfb33-2c04-4cdf-a570-a29f52647ae6\",\"type\":\"GlyphRenderer\"}]},\"id\":\"13e252f9-fd27-44c7-8d55-025816c84e41\",\"type\":\"LegendItem\"},{\"attributes\":{\"line_alpha\":0.1,\"line_color\":\"#1f77b4\",\"line_width\":4,\"x\":{\"field\":\"x\"},\"y\":{\"field\":\"y\"}},\"id\":\"6289d092-704a-4b56-bf5c-388cdf6bd9f0\",\"type\":\"Line\"},{\"attributes\":{\"line_color\":\"#fb8072\",\"line_width\":4,\"x\":{\"field\":\"x\"},\"y\":{\"field\":\"y\"}},\"id\":\"21b48cdd-5c05-4881-983d-07a5d473e16d\",\"type\":\"Line\"},{\"attributes\":{\"source\":{\"id\":\"df2a026c-7d7e-43a8-80cb-f8ca8cfa0985\",\"type\":\"ColumnDataSource\"}},\"id\":\"d6e17f23-18f0-4ac0-a93c-dee660bf2a82\",\"type\":\"CDSView\"},{\"attributes\":{\"data_source\":{\"id\":\"2ebe8eda-946e-482e-84cb-3d54185c8687\",\"type\":\"ColumnDataSource\"},\"glyph\":{\"id\":\"0122ceac-2e10-412d-8647-d4729072b014\",\"type\":\"Line\"},\"hover_glyph\":null,\"muted_glyph\":null,\"nonselection_glyph\":{\"id\":\"ac093747-d05d-41ce-8f05-2b751511e248\",\"type\":\"Line\"},\"selection_glyph\":null,\"view\":{\"id\":\"91cf0a0d-7f18-4a66-9f0b-f0d693418101\",\"type\":\"CDSView\"}},\"id\":\"6f5868f9-9e4f-42f7-805f-4ef290fee231\",\"type\":\"GlyphRenderer\"},{\"attributes\":{\"line_color\":\"#ffffb3\",\"line_width\":4,\"x\":{\"field\":\"x\"},\"y\":{\"field\":\"y\"}},\"id\":\"0122ceac-2e10-412d-8647-d4729072b014\",\"type\":\"Line\"},{\"attributes\":{\"below\":[{\"id\":\"5d1b58b3-0fa3-4d74-87c9-81b5874f9155\",\"type\":\"MercatorAxis\"}],\"left\":[{\"id\":\"1a54b933-0925-44ff-b973-d7da079fc4f2\",\"type\":\"MercatorAxis\"}],\"plot_width\":900,\"renderers\":[{\"id\":\"5d1b58b3-0fa3-4d74-87c9-81b5874f9155\",\"type\":\"MercatorAxis\"},{\"id\":\"d3de834e-c9ca-416a-9305-bdc9ba5e4558\",\"type\":\"Grid\"},{\"id\":\"1a54b933-0925-44ff-b973-d7da079fc4f2\",\"type\":\"MercatorAxis\"},{\"id\":\"78395d83-a158-4177-bebc-819d09ebcc5b\",\"type\":\"Grid\"},{\"id\":\"462f4c76-ee03-41ff-9eb9-e776f0df978f\",\"type\":\"BoxAnnotation\"},{\"id\":\"6389807c-c832-43a5-a2ee-6d56463ed74d\",\"type\":\"TileRenderer\"},{\"id\":\"4a21bff9-df10-4baa-a785-d6cc3e61b0f7\",\"type\":\"Legend\"},{\"id\":\"8ccdfb33-2c04-4cdf-a570-a29f52647ae6\",\"type\":\"GlyphRenderer\"},{\"id\":\"6f5868f9-9e4f-42f7-805f-4ef290fee231\",\"type\":\"GlyphRenderer\"},{\"id\":\"23d56dc6-7225-413f-80a8-8eeefef7853e\",\"type\":\"GlyphRenderer\"},{\"id\":\"7dda4819-f0f4-4d54-a237-5363fa7cddc1\",\"type\":\"GlyphRenderer\"},{\"id\":\"3c661f2e-7b8a-4eab-aaef-32f4272409e8\",\"type\":\"GlyphRenderer\"},{\"id\":\"08811f1e-e376-4d84-841a-b50dc08f392a\",\"type\":\"LabelSet\"}],\"title\":{\"id\":\"a40696f7-6dda-4012-b170-e2cf9b087004\",\"type\":\"Title\"},\"toolbar\":{\"id\":\"1c75848d-afc5-4b39-bb89-0192a01fd9bd\",\"type\":\"Toolbar\"},\"x_range\":{\"id\":\"1548afe3-368b-461d-aeee-bc8e4ac72781\",\"type\":\"Range1d\"},\"x_scale\":{\"id\":\"d39736f7-883d-421b-b8da-6d2bb2fdad3e\",\"type\":\"LinearScale\"},\"y_range\":{\"id\":\"e81f8f4b-57e8-4894-ac14-9053bf7cc9f2\",\"type\":\"Range1d\"},\"y_scale\":{\"id\":\"3c6ad887-e4d6-4e7f-b32b-9e2af0e912b3\",\"type\":\"LinearScale\"}},\"id\":\"2f41e4ac-8cc8-4fac-9862-2e50406134fa\",\"subtype\":\"Figure\",\"type\":\"Plot\"},{\"attributes\":{\"source\":{\"id\":\"2ebe8eda-946e-482e-84cb-3d54185c8687\",\"type\":\"ColumnDataSource\"}},\"id\":\"91cf0a0d-7f18-4a66-9f0b-f0d693418101\",\"type\":\"CDSView\"},{\"attributes\":{\"callback\":null,\"column_names\":[\"x\",\"y\",\"names\",\"desc\"],\"data\":{\"desc\":[\"Z\\u00fcrich HB\",\"Z\\u00fcrich Oerlikon\",\"Z\\u00fcrich Seebach\",\"Z\\u00fcrich, Seebacherplatz\",\"Z\\u00fcrich, Seebach\",\"Z\\u00fcrich, Ausserdorfstrasse\",\"Z\\u00fcrich, Birch-/Glatttalstrasse\"],\"names\":[\"Z\\u00fcrich HB\",\"Z\\u00fcrich Oerlikon\",\"Z\\u00fcrich Seebach\",\"\",\"\",\"Z\\u00fcrich, Ausserdorfstrasse\",\"Z\\u00fcrich, Birch-/Glatttalstrasse\"],\"x\":[950689.8247167885,951126.5310791694,951184.5285338726,951600.1955124955,951756.8220360434,951621.2348962564,951352.064367519],\"y\":[6004022.131701146,6009506.689208569,6010694.107705805,6010877.713124968,6011206.929361019,6011642.613062038,6012118.467883472]},\"selected\":null,\"selection_policy\":null},\"id\":\"28d150e2-5f7f-43af-9110-839365c9d1d8\",\"type\":\"ColumnDataSource\"},{\"attributes\":{\"callback\":null,\"column_names\":[\"x\",\"y\"],\"data\":{\"x\":[951126.5310791694,951184.5285338726],\"y\":[6009506.689208569,6010694.107705805]},\"selected\":null,\"selection_policy\":null},\"id\":\"2ebe8eda-946e-482e-84cb-3d54185c8687\",\"type\":\"ColumnDataSource\"},{\"attributes\":{\"level\":\"glyph\",\"plot\":{\"id\":\"2f41e4ac-8cc8-4fac-9862-2e50406134fa\",\"subtype\":\"Figure\",\"type\":\"Plot\"},\"source\":{\"id\":\"28d150e2-5f7f-43af-9110-839365c9d1d8\",\"type\":\"ColumnDataSource\"},\"text\":{\"field\":\"names\"},\"x\":{\"field\":\"x\"},\"x_offset\":{\"value\":-10},\"y\":{\"field\":\"y\"},\"y_offset\":{\"value\":10}},\"id\":\"08811f1e-e376-4d84-841a-b50dc08f392a\",\"type\":\"LabelSet\"}],\"root_ids\":[\"2f41e4ac-8cc8-4fac-9862-2e50406134fa\"]},\"title\":\"Bokeh Application\",\"version\":\"0.12.15\"}};\n",
       "  var render_items = [{\"docid\":\"435b8e39-2422-40a3-b3cb-bf4c06c487b0\",\"elementid\":\"7b2fba9b-2a39-4b63-aa6e-4e4582d64fe5\",\"modelid\":\"2f41e4ac-8cc8-4fac-9862-2e50406134fa\"}];\n",
       "  root.Bokeh.embed.embed_items_notebook(docs_json, render_items);\n",
       "\n",
       "  }\n",
       "  if (root.Bokeh !== undefined) {\n",
       "    embed_document(root);\n",
       "  } else {\n",
       "    var attempts = 0;\n",
       "    var timer = setInterval(function(root) {\n",
       "      if (root.Bokeh !== undefined) {\n",
       "        embed_document(root);\n",
       "        clearInterval(timer);\n",
       "      }\n",
       "      attempts++;\n",
       "      if (attempts > 100) {\n",
       "        console.log(\"Bokeh: ERROR: Unable to run BokehJS code because BokehJS library is missing\")\n",
       "        clearInterval(timer);\n",
       "      }\n",
       "    }, 10, root)\n",
       "  }\n",
       "})(window);"
      ],
      "application/vnd.bokehjs_exec.v0+json": ""
     },
     "metadata": {
      "application/vnd.bokehjs_exec.v0+json": {
       "id": "2f41e4ac-8cc8-4fac-9862-2e50406134fa"
      }
     },
     "output_type": "display_data"
    }
   ],
   "source": [
    "helpers.plot_trip(pandas_df, res[1][0])"
   ]
  },
  {
   "cell_type": "markdown",
   "metadata": {},
   "source": [
    "## Isochronous Map\n",
    "\n",
    "We also implemented a method that, given a certain amount of time, displays an isochrone map of each and every position that can be reached from a source position (in our case, Zürich HB) in this amount of time."
   ]
  },
  {
   "cell_type": "code",
   "execution_count": 32,
   "metadata": {},
   "outputs": [
    {
     "data": {
      "text/html": [
       "\n",
       "    <div class=\"bk-root\">\n",
       "        <a href=\"https://bokeh.pydata.org\" target=\"_blank\" class=\"bk-logo bk-logo-small bk-logo-notebook\"></a>\n",
       "        <span id=\"84a72ea4-91d6-4694-9a29-86206896ecc6\">Loading BokehJS ...</span>\n",
       "    </div>"
      ]
     },
     "metadata": {},
     "output_type": "display_data"
    },
    {
     "data": {
      "application/javascript": [
       "\n",
       "(function(root) {\n",
       "  function now() {\n",
       "    return new Date();\n",
       "  }\n",
       "\n",
       "  var force = true;\n",
       "\n",
       "  if (typeof (root._bokeh_onload_callbacks) === \"undefined\" || force === true) {\n",
       "    root._bokeh_onload_callbacks = [];\n",
       "    root._bokeh_is_loading = undefined;\n",
       "  }\n",
       "\n",
       "  var JS_MIME_TYPE = 'application/javascript';\n",
       "  var HTML_MIME_TYPE = 'text/html';\n",
       "  var EXEC_MIME_TYPE = 'application/vnd.bokehjs_exec.v0+json';\n",
       "  var CLASS_NAME = 'output_bokeh rendered_html';\n",
       "\n",
       "  /**\n",
       "   * Render data to the DOM node\n",
       "   */\n",
       "  function render(props, node) {\n",
       "    var script = document.createElement(\"script\");\n",
       "    node.appendChild(script);\n",
       "  }\n",
       "\n",
       "  /**\n",
       "   * Handle when an output is cleared or removed\n",
       "   */\n",
       "  function handleClearOutput(event, handle) {\n",
       "    var cell = handle.cell;\n",
       "\n",
       "    var id = cell.output_area._bokeh_element_id;\n",
       "    var server_id = cell.output_area._bokeh_server_id;\n",
       "    // Clean up Bokeh references\n",
       "    if (id !== undefined) {\n",
       "      Bokeh.index[id].model.document.clear();\n",
       "      delete Bokeh.index[id];\n",
       "    }\n",
       "\n",
       "    if (server_id !== undefined) {\n",
       "      // Clean up Bokeh references\n",
       "      var cmd = \"from bokeh.io.state import curstate; print(curstate().uuid_to_server['\" + server_id + \"'].get_sessions()[0].document.roots[0]._id)\";\n",
       "      cell.notebook.kernel.execute(cmd, {\n",
       "        iopub: {\n",
       "          output: function(msg) {\n",
       "            var element_id = msg.content.text.trim();\n",
       "            Bokeh.index[element_id].model.document.clear();\n",
       "            delete Bokeh.index[element_id];\n",
       "          }\n",
       "        }\n",
       "      });\n",
       "      // Destroy server and session\n",
       "      var cmd = \"import bokeh.io.notebook as ion; ion.destroy_server('\" + server_id + \"')\";\n",
       "      cell.notebook.kernel.execute(cmd);\n",
       "    }\n",
       "  }\n",
       "\n",
       "  /**\n",
       "   * Handle when a new output is added\n",
       "   */\n",
       "  function handleAddOutput(event, handle) {\n",
       "    var output_area = handle.output_area;\n",
       "    var output = handle.output;\n",
       "\n",
       "    // limit handleAddOutput to display_data with EXEC_MIME_TYPE content only\n",
       "    if ((output.output_type != \"display_data\") || (!output.data.hasOwnProperty(EXEC_MIME_TYPE))) {\n",
       "      return\n",
       "    }\n",
       "\n",
       "    var toinsert = output_area.element.find(\".\" + CLASS_NAME.split(' ')[0]);\n",
       "\n",
       "    if (output.metadata[EXEC_MIME_TYPE][\"id\"] !== undefined) {\n",
       "      toinsert[toinsert.length - 1].firstChild.textContent = output.data[JS_MIME_TYPE];\n",
       "      // store reference to embed id on output_area\n",
       "      output_area._bokeh_element_id = output.metadata[EXEC_MIME_TYPE][\"id\"];\n",
       "    }\n",
       "    if (output.metadata[EXEC_MIME_TYPE][\"server_id\"] !== undefined) {\n",
       "      var bk_div = document.createElement(\"div\");\n",
       "      bk_div.innerHTML = output.data[HTML_MIME_TYPE];\n",
       "      var script_attrs = bk_div.children[0].attributes;\n",
       "      for (var i = 0; i < script_attrs.length; i++) {\n",
       "        toinsert[toinsert.length - 1].firstChild.setAttribute(script_attrs[i].name, script_attrs[i].value);\n",
       "      }\n",
       "      // store reference to server id on output_area\n",
       "      output_area._bokeh_server_id = output.metadata[EXEC_MIME_TYPE][\"server_id\"];\n",
       "    }\n",
       "  }\n",
       "\n",
       "  function register_renderer(events, OutputArea) {\n",
       "\n",
       "    function append_mime(data, metadata, element) {\n",
       "      // create a DOM node to render to\n",
       "      var toinsert = this.create_output_subarea(\n",
       "        metadata,\n",
       "        CLASS_NAME,\n",
       "        EXEC_MIME_TYPE\n",
       "      );\n",
       "      this.keyboard_manager.register_events(toinsert);\n",
       "      // Render to node\n",
       "      var props = {data: data, metadata: metadata[EXEC_MIME_TYPE]};\n",
       "      render(props, toinsert[toinsert.length - 1]);\n",
       "      element.append(toinsert);\n",
       "      return toinsert\n",
       "    }\n",
       "\n",
       "    /* Handle when an output is cleared or removed */\n",
       "    events.on('clear_output.CodeCell', handleClearOutput);\n",
       "    events.on('delete.Cell', handleClearOutput);\n",
       "\n",
       "    /* Handle when a new output is added */\n",
       "    events.on('output_added.OutputArea', handleAddOutput);\n",
       "\n",
       "    /**\n",
       "     * Register the mime type and append_mime function with output_area\n",
       "     */\n",
       "    OutputArea.prototype.register_mime_type(EXEC_MIME_TYPE, append_mime, {\n",
       "      /* Is output safe? */\n",
       "      safe: true,\n",
       "      /* Index of renderer in `output_area.display_order` */\n",
       "      index: 0\n",
       "    });\n",
       "  }\n",
       "\n",
       "  // register the mime type if in Jupyter Notebook environment and previously unregistered\n",
       "  if (root.Jupyter !== undefined) {\n",
       "    var events = require('base/js/events');\n",
       "    var OutputArea = require('notebook/js/outputarea').OutputArea;\n",
       "\n",
       "    if (OutputArea.prototype.mime_types().indexOf(EXEC_MIME_TYPE) == -1) {\n",
       "      register_renderer(events, OutputArea);\n",
       "    }\n",
       "  }\n",
       "\n",
       "  \n",
       "  if (typeof (root._bokeh_timeout) === \"undefined\" || force === true) {\n",
       "    root._bokeh_timeout = Date.now() + 5000;\n",
       "    root._bokeh_failed_load = false;\n",
       "  }\n",
       "\n",
       "  var NB_LOAD_WARNING = {'data': {'text/html':\n",
       "     \"<div style='background-color: #fdd'>\\n\"+\n",
       "     \"<p>\\n\"+\n",
       "     \"BokehJS does not appear to have successfully loaded. If loading BokehJS from CDN, this \\n\"+\n",
       "     \"may be due to a slow or bad network connection. Possible fixes:\\n\"+\n",
       "     \"</p>\\n\"+\n",
       "     \"<ul>\\n\"+\n",
       "     \"<li>re-rerun `output_notebook()` to attempt to load from CDN again, or</li>\\n\"+\n",
       "     \"<li>use INLINE resources instead, as so:</li>\\n\"+\n",
       "     \"</ul>\\n\"+\n",
       "     \"<code>\\n\"+\n",
       "     \"from bokeh.resources import INLINE\\n\"+\n",
       "     \"output_notebook(resources=INLINE)\\n\"+\n",
       "     \"</code>\\n\"+\n",
       "     \"</div>\"}};\n",
       "\n",
       "  function display_loaded() {\n",
       "    var el = document.getElementById(\"84a72ea4-91d6-4694-9a29-86206896ecc6\");\n",
       "    if (el != null) {\n",
       "      el.textContent = \"BokehJS is loading...\";\n",
       "    }\n",
       "    if (root.Bokeh !== undefined) {\n",
       "      if (el != null) {\n",
       "        el.textContent = \"BokehJS \" + root.Bokeh.version + \" successfully loaded.\";\n",
       "      }\n",
       "    } else if (Date.now() < root._bokeh_timeout) {\n",
       "      setTimeout(display_loaded, 100)\n",
       "    }\n",
       "  }\n",
       "\n",
       "\n",
       "  function run_callbacks() {\n",
       "    try {\n",
       "      root._bokeh_onload_callbacks.forEach(function(callback) { callback() });\n",
       "    }\n",
       "    finally {\n",
       "      delete root._bokeh_onload_callbacks\n",
       "    }\n",
       "    console.info(\"Bokeh: all callbacks have finished\");\n",
       "  }\n",
       "\n",
       "  function load_libs(js_urls, callback) {\n",
       "    root._bokeh_onload_callbacks.push(callback);\n",
       "    if (root._bokeh_is_loading > 0) {\n",
       "      console.log(\"Bokeh: BokehJS is being loaded, scheduling callback at\", now());\n",
       "      return null;\n",
       "    }\n",
       "    if (js_urls == null || js_urls.length === 0) {\n",
       "      run_callbacks();\n",
       "      return null;\n",
       "    }\n",
       "    console.log(\"Bokeh: BokehJS not loaded, scheduling load and callback at\", now());\n",
       "    root._bokeh_is_loading = js_urls.length;\n",
       "    for (var i = 0; i < js_urls.length; i++) {\n",
       "      var url = js_urls[i];\n",
       "      var s = document.createElement('script');\n",
       "      s.src = url;\n",
       "      s.async = false;\n",
       "      s.onreadystatechange = s.onload = function() {\n",
       "        root._bokeh_is_loading--;\n",
       "        if (root._bokeh_is_loading === 0) {\n",
       "          console.log(\"Bokeh: all BokehJS libraries loaded\");\n",
       "          run_callbacks()\n",
       "        }\n",
       "      };\n",
       "      s.onerror = function() {\n",
       "        console.warn(\"failed to load library \" + url);\n",
       "      };\n",
       "      console.log(\"Bokeh: injecting script tag for BokehJS library: \", url);\n",
       "      document.getElementsByTagName(\"head\")[0].appendChild(s);\n",
       "    }\n",
       "  };var element = document.getElementById(\"84a72ea4-91d6-4694-9a29-86206896ecc6\");\n",
       "  if (element == null) {\n",
       "    console.log(\"Bokeh: ERROR: autoload.js configured with elementid '84a72ea4-91d6-4694-9a29-86206896ecc6' but no matching script tag was found. \")\n",
       "    return false;\n",
       "  }\n",
       "\n",
       "  var js_urls = [\"https://cdn.pydata.org/bokeh/release/bokeh-0.12.15.min.js\", \"https://cdn.pydata.org/bokeh/release/bokeh-widgets-0.12.15.min.js\", \"https://cdn.pydata.org/bokeh/release/bokeh-tables-0.12.15.min.js\", \"https://cdn.pydata.org/bokeh/release/bokeh-gl-0.12.15.min.js\"];\n",
       "\n",
       "  var inline_js = [\n",
       "    function(Bokeh) {\n",
       "      Bokeh.set_log_level(\"info\");\n",
       "    },\n",
       "    \n",
       "    function(Bokeh) {\n",
       "      \n",
       "    },\n",
       "    function(Bokeh) {\n",
       "      console.log(\"Bokeh: injecting CSS: https://cdn.pydata.org/bokeh/release/bokeh-0.12.15.min.css\");\n",
       "      Bokeh.embed.inject_css(\"https://cdn.pydata.org/bokeh/release/bokeh-0.12.15.min.css\");\n",
       "      console.log(\"Bokeh: injecting CSS: https://cdn.pydata.org/bokeh/release/bokeh-widgets-0.12.15.min.css\");\n",
       "      Bokeh.embed.inject_css(\"https://cdn.pydata.org/bokeh/release/bokeh-widgets-0.12.15.min.css\");\n",
       "      console.log(\"Bokeh: injecting CSS: https://cdn.pydata.org/bokeh/release/bokeh-tables-0.12.15.min.css\");\n",
       "      Bokeh.embed.inject_css(\"https://cdn.pydata.org/bokeh/release/bokeh-tables-0.12.15.min.css\");\n",
       "    }\n",
       "  ];\n",
       "\n",
       "  function run_inline_js() {\n",
       "    \n",
       "    if ((root.Bokeh !== undefined) || (force === true)) {\n",
       "      for (var i = 0; i < inline_js.length; i++) {\n",
       "        inline_js[i].call(root, root.Bokeh);\n",
       "      }if (force === true) {\n",
       "        display_loaded();\n",
       "      }} else if (Date.now() < root._bokeh_timeout) {\n",
       "      setTimeout(run_inline_js, 100);\n",
       "    } else if (!root._bokeh_failed_load) {\n",
       "      console.log(\"Bokeh: BokehJS failed to load within specified timeout.\");\n",
       "      root._bokeh_failed_load = true;\n",
       "    } else if (force !== true) {\n",
       "      var cell = $(document.getElementById(\"84a72ea4-91d6-4694-9a29-86206896ecc6\")).parents('.cell').data().cell;\n",
       "      cell.output_area.append_execute_result(NB_LOAD_WARNING)\n",
       "    }\n",
       "\n",
       "  }\n",
       "\n",
       "  if (root._bokeh_is_loading === 0) {\n",
       "    console.log(\"Bokeh: BokehJS loaded, going straight to plotting\");\n",
       "    run_inline_js();\n",
       "  } else {\n",
       "    load_libs(js_urls, function() {\n",
       "      console.log(\"Bokeh: BokehJS plotting callback run at\", now());\n",
       "      run_inline_js();\n",
       "    });\n",
       "  }\n",
       "}(window));"
      ],
      "application/vnd.bokehjs_load.v0+json": "\n(function(root) {\n  function now() {\n    return new Date();\n  }\n\n  var force = true;\n\n  if (typeof (root._bokeh_onload_callbacks) === \"undefined\" || force === true) {\n    root._bokeh_onload_callbacks = [];\n    root._bokeh_is_loading = undefined;\n  }\n\n  \n\n  \n  if (typeof (root._bokeh_timeout) === \"undefined\" || force === true) {\n    root._bokeh_timeout = Date.now() + 5000;\n    root._bokeh_failed_load = false;\n  }\n\n  var NB_LOAD_WARNING = {'data': {'text/html':\n     \"<div style='background-color: #fdd'>\\n\"+\n     \"<p>\\n\"+\n     \"BokehJS does not appear to have successfully loaded. If loading BokehJS from CDN, this \\n\"+\n     \"may be due to a slow or bad network connection. Possible fixes:\\n\"+\n     \"</p>\\n\"+\n     \"<ul>\\n\"+\n     \"<li>re-rerun `output_notebook()` to attempt to load from CDN again, or</li>\\n\"+\n     \"<li>use INLINE resources instead, as so:</li>\\n\"+\n     \"</ul>\\n\"+\n     \"<code>\\n\"+\n     \"from bokeh.resources import INLINE\\n\"+\n     \"output_notebook(resources=INLINE)\\n\"+\n     \"</code>\\n\"+\n     \"</div>\"}};\n\n  function display_loaded() {\n    var el = document.getElementById(\"84a72ea4-91d6-4694-9a29-86206896ecc6\");\n    if (el != null) {\n      el.textContent = \"BokehJS is loading...\";\n    }\n    if (root.Bokeh !== undefined) {\n      if (el != null) {\n        el.textContent = \"BokehJS \" + root.Bokeh.version + \" successfully loaded.\";\n      }\n    } else if (Date.now() < root._bokeh_timeout) {\n      setTimeout(display_loaded, 100)\n    }\n  }\n\n\n  function run_callbacks() {\n    try {\n      root._bokeh_onload_callbacks.forEach(function(callback) { callback() });\n    }\n    finally {\n      delete root._bokeh_onload_callbacks\n    }\n    console.info(\"Bokeh: all callbacks have finished\");\n  }\n\n  function load_libs(js_urls, callback) {\n    root._bokeh_onload_callbacks.push(callback);\n    if (root._bokeh_is_loading > 0) {\n      console.log(\"Bokeh: BokehJS is being loaded, scheduling callback at\", now());\n      return null;\n    }\n    if (js_urls == null || js_urls.length === 0) {\n      run_callbacks();\n      return null;\n    }\n    console.log(\"Bokeh: BokehJS not loaded, scheduling load and callback at\", now());\n    root._bokeh_is_loading = js_urls.length;\n    for (var i = 0; i < js_urls.length; i++) {\n      var url = js_urls[i];\n      var s = document.createElement('script');\n      s.src = url;\n      s.async = false;\n      s.onreadystatechange = s.onload = function() {\n        root._bokeh_is_loading--;\n        if (root._bokeh_is_loading === 0) {\n          console.log(\"Bokeh: all BokehJS libraries loaded\");\n          run_callbacks()\n        }\n      };\n      s.onerror = function() {\n        console.warn(\"failed to load library \" + url);\n      };\n      console.log(\"Bokeh: injecting script tag for BokehJS library: \", url);\n      document.getElementsByTagName(\"head\")[0].appendChild(s);\n    }\n  };var element = document.getElementById(\"84a72ea4-91d6-4694-9a29-86206896ecc6\");\n  if (element == null) {\n    console.log(\"Bokeh: ERROR: autoload.js configured with elementid '84a72ea4-91d6-4694-9a29-86206896ecc6' but no matching script tag was found. \")\n    return false;\n  }\n\n  var js_urls = [\"https://cdn.pydata.org/bokeh/release/bokeh-0.12.15.min.js\", \"https://cdn.pydata.org/bokeh/release/bokeh-widgets-0.12.15.min.js\", \"https://cdn.pydata.org/bokeh/release/bokeh-tables-0.12.15.min.js\", \"https://cdn.pydata.org/bokeh/release/bokeh-gl-0.12.15.min.js\"];\n\n  var inline_js = [\n    function(Bokeh) {\n      Bokeh.set_log_level(\"info\");\n    },\n    \n    function(Bokeh) {\n      \n    },\n    function(Bokeh) {\n      console.log(\"Bokeh: injecting CSS: https://cdn.pydata.org/bokeh/release/bokeh-0.12.15.min.css\");\n      Bokeh.embed.inject_css(\"https://cdn.pydata.org/bokeh/release/bokeh-0.12.15.min.css\");\n      console.log(\"Bokeh: injecting CSS: https://cdn.pydata.org/bokeh/release/bokeh-widgets-0.12.15.min.css\");\n      Bokeh.embed.inject_css(\"https://cdn.pydata.org/bokeh/release/bokeh-widgets-0.12.15.min.css\");\n      console.log(\"Bokeh: injecting CSS: https://cdn.pydata.org/bokeh/release/bokeh-tables-0.12.15.min.css\");\n      Bokeh.embed.inject_css(\"https://cdn.pydata.org/bokeh/release/bokeh-tables-0.12.15.min.css\");\n    }\n  ];\n\n  function run_inline_js() {\n    \n    if ((root.Bokeh !== undefined) || (force === true)) {\n      for (var i = 0; i < inline_js.length; i++) {\n        inline_js[i].call(root, root.Bokeh);\n      }if (force === true) {\n        display_loaded();\n      }} else if (Date.now() < root._bokeh_timeout) {\n      setTimeout(run_inline_js, 100);\n    } else if (!root._bokeh_failed_load) {\n      console.log(\"Bokeh: BokehJS failed to load within specified timeout.\");\n      root._bokeh_failed_load = true;\n    } else if (force !== true) {\n      var cell = $(document.getElementById(\"84a72ea4-91d6-4694-9a29-86206896ecc6\")).parents('.cell').data().cell;\n      cell.output_area.append_execute_result(NB_LOAD_WARNING)\n    }\n\n  }\n\n  if (root._bokeh_is_loading === 0) {\n    console.log(\"Bokeh: BokehJS loaded, going straight to plotting\");\n    run_inline_js();\n  } else {\n    load_libs(js_urls, function() {\n      console.log(\"Bokeh: BokehJS plotting callback run at\", now());\n      run_inline_js();\n    });\n  }\n}(window));"
     },
     "metadata": {},
     "output_type": "display_data"
    },
    {
     "data": {
      "text/html": [
       "\n",
       "<div class=\"bk-root\">\n",
       "    <div class=\"bk-plotdiv\" id=\"2ea6142b-bfaa-41d9-9c11-06dabe660e58\"></div>\n",
       "</div>"
      ]
     },
     "metadata": {},
     "output_type": "display_data"
    },
    {
     "data": {
      "application/javascript": [
       "(function(root) {\n",
       "  function embed_document(root) {\n",
       "    \n",
       "  var docs_json = {\"de0b6e05-0de2-4e3f-8f80-320420df6ad2\":{\"roots\":{\"references\":[{\"attributes\":{\"tile_source\":{\"id\":\"41354cc2-d46e-4fdc-bd74-aedf5a61fdd1\",\"type\":\"WMTSTileSource\"}},\"id\":\"62177fcb-8ef5-49f2-81c8-1fc426d15f86\",\"type\":\"TileRenderer\"},{\"attributes\":{\"active_drag\":\"auto\",\"active_inspect\":\"auto\",\"active_scroll\":\"auto\",\"active_tap\":\"auto\",\"tools\":[{\"id\":\"24c85763-a557-49b2-b0fa-d0a350e741cd\",\"type\":\"PanTool\"},{\"id\":\"b334657f-734d-4316-a5c0-f907393dc573\",\"type\":\"WheelZoomTool\"},{\"id\":\"a2fc8b9b-b4d4-4767-9645-0346d6e911b4\",\"type\":\"BoxZoomTool\"},{\"id\":\"9496390b-859d-4010-b882-3c75db83f8e7\",\"type\":\"SaveTool\"},{\"id\":\"bd17e7fe-47a4-4bb1-9d27-a84ce7c7efe6\",\"type\":\"ResetTool\"},{\"id\":\"ace826dc-fdd4-49e7-b4fd-fd59bd1db933\",\"type\":\"HelpTool\"}]},\"id\":\"a5dc0787-10a2-4528-bc90-e03fc3ed6e98\",\"type\":\"Toolbar\"},{\"attributes\":{\"callback\":null,\"end\":958689.8247167885,\"start\":942689.8247167885},\"id\":\"c6b44df1-1687-4899-ba78-9474d4dc05a3\",\"type\":\"Range1d\"},{\"attributes\":{\"fill_alpha\":{\"value\":0.1},\"fill_color\":{\"value\":\"#1f77b4\"},\"line_alpha\":{\"value\":0.1},\"line_color\":{\"value\":\"#1f77b4\"},\"size\":{\"units\":\"screen\",\"value\":10},\"x\":{\"field\":\"x\"},\"y\":{\"field\":\"y\"}},\"id\":\"4d1f54d1-b396-41b1-a4c0-2be0c36cdccb\",\"type\":\"Square\"},{\"attributes\":{\"data_source\":{\"id\":\"72170d0a-b857-4491-80bd-185979fba4a9\",\"type\":\"ColumnDataSource\"},\"glyph\":{\"id\":\"c1e678bf-ca4f-4d21-ad46-46f8caefb422\",\"type\":\"Square\"},\"hover_glyph\":null,\"muted_glyph\":null,\"nonselection_glyph\":{\"id\":\"4d1f54d1-b396-41b1-a4c0-2be0c36cdccb\",\"type\":\"Square\"},\"selection_glyph\":null,\"view\":{\"id\":\"3dc29d17-b106-4e5f-9199-cd2d1f3db852\",\"type\":\"CDSView\"}},\"id\":\"bd7eadd2-13bd-4aad-a382-3a29e68f71b6\",\"type\":\"GlyphRenderer\"},{\"attributes\":{\"attribution\":\"&copy; <a href=\\\"https://www.openstreetmap.org/copyright\\\">OpenStreetMap</a> contributors,&copy; <a href=\\\"https://cartodb.com/attributions\\\">CartoDB</a>\",\"url\":\"https://tiles.basemaps.cartocdn.com/light_all/{z}/{x}/{y}.png\"},\"id\":\"41354cc2-d46e-4fdc-bd74-aedf5a61fdd1\",\"type\":\"WMTSTileSource\"},{\"attributes\":{\"dimension\":\"lon\"},\"id\":\"455dead1-2119-434e-9668-9e774272df2d\",\"type\":\"MercatorTickFormatter\"},{\"attributes\":{},\"id\":\"93dd45bc-0198-40ec-bb52-1ec2b65c7f60\",\"type\":\"LinearScale\"},{\"attributes\":{\"source\":{\"id\":\"72170d0a-b857-4491-80bd-185979fba4a9\",\"type\":\"ColumnDataSource\"}},\"id\":\"3dc29d17-b106-4e5f-9199-cd2d1f3db852\",\"type\":\"CDSView\"},{\"attributes\":{\"fill_color\":{\"value\":\"#FF0000\"},\"line_color\":{\"value\":\"#1f77b4\"},\"size\":{\"units\":\"screen\",\"value\":10},\"x\":{\"field\":\"x\"},\"y\":{\"field\":\"y\"}},\"id\":\"c1e678bf-ca4f-4d21-ad46-46f8caefb422\",\"type\":\"Square\"},{\"attributes\":{\"source\":{\"id\":\"e433685e-da90-42a2-a9d5-d76639219f7b\",\"type\":\"ColumnDataSource\"}},\"id\":\"9a908783-4b3f-4e48-8644-c8469209502f\",\"type\":\"CDSView\"},{\"attributes\":{\"plot\":null,\"text\":\"\"},\"id\":\"4a46ebe8-8163-4b00-892e-2f311905f488\",\"type\":\"Title\"},{\"attributes\":{},\"id\":\"6c9e6189-ab9d-43a1-9d77-41e44718a837\",\"type\":\"LinearScale\"},{\"attributes\":{\"formatter\":{\"id\":\"455dead1-2119-434e-9668-9e774272df2d\",\"type\":\"MercatorTickFormatter\"},\"plot\":{\"id\":\"29da4907-9475-47bf-b10e-aea0a9dc1179\",\"subtype\":\"Figure\",\"type\":\"Plot\"},\"ticker\":{\"id\":\"eeeb8207-dd02-4ac4-b4f3-369aaaca4844\",\"type\":\"MercatorTicker\"}},\"id\":\"e1d734e5-40d7-44d1-98ba-6f9adb23afd1\",\"type\":\"MercatorAxis\"},{\"attributes\":{},\"id\":\"ace826dc-fdd4-49e7-b4fd-fd59bd1db933\",\"type\":\"HelpTool\"},{\"attributes\":{},\"id\":\"bd17e7fe-47a4-4bb1-9d27-a84ce7c7efe6\",\"type\":\"ResetTool\"},{\"attributes\":{\"callback\":null,\"end\":6012022.131701146,\"start\":5996022.131701146},\"id\":\"35aebf45-3394-4fff-9e8c-94c572d0e896\",\"type\":\"Range1d\"},{\"attributes\":{},\"id\":\"9496390b-859d-4010-b882-3c75db83f8e7\",\"type\":\"SaveTool\"},{\"attributes\":{\"overlay\":{\"id\":\"a3276c39-5371-4c5d-865a-065992449a49\",\"type\":\"BoxAnnotation\"}},\"id\":\"a2fc8b9b-b4d4-4767-9645-0346d6e911b4\",\"type\":\"BoxZoomTool\"},{\"attributes\":{},\"id\":\"b334657f-734d-4316-a5c0-f907393dc573\",\"type\":\"WheelZoomTool\"},{\"attributes\":{\"data_source\":{\"id\":\"e433685e-da90-42a2-a9d5-d76639219f7b\",\"type\":\"ColumnDataSource\"},\"glyph\":{\"id\":\"f7b8843d-5c8f-489f-ad1d-09036e33eace\",\"type\":\"Circle\"},\"hover_glyph\":null,\"muted_glyph\":null,\"nonselection_glyph\":{\"id\":\"9dc7f815-294b-482a-abb1-3b49dcc57cd4\",\"type\":\"Circle\"},\"selection_glyph\":null,\"view\":{\"id\":\"9a908783-4b3f-4e48-8644-c8469209502f\",\"type\":\"CDSView\"}},\"id\":\"0b7d07b9-0cf9-47bf-b576-0d2a2c81fdda\",\"type\":\"GlyphRenderer\"},{\"attributes\":{},\"id\":\"24c85763-a557-49b2-b0fa-d0a350e741cd\",\"type\":\"PanTool\"},{\"attributes\":{\"callback\":null,\"column_names\":[\"x\",\"y\",\"rad\"],\"data\":{\"rad\":[252.0,0.0,504.0,27.671908599999995,252.0,756.0,988.7226678,618.3943626,420.0,672.0,790.0812948000001,246.850093,980.3677184,588.0,588.0,672.0,0.0,504.0,677.7048768,279.9383244,84.0,271.1536828,588.0,0.0,337.84044700000004,420.0,275.4267334,336.0,14.9605764,420.0,168.0,369.27207799999996,168.0,413.1202712,588.0,1137.6591604000002,1124.6183676,0.0,168.0,0.0,1123.3095384,575.9324088000001,917.8906351999999,769.9417404000001,384.38134700000006,475.220858,60.561023600000006,150.9599686,84.0,0.0,743.4294265999999,18.917484599999998,243.1764496,91.44314760000002,466.1048322,168.0,769.9417404000001,210.05581940000002,289.93171060000003,504.0277900000001,664.9932282,1.3216755999999998,1037.044134,252.0,420.0,941.4657937999999,840.0,84.0,34.9442506,420.0,756.0,657.6205229999999,397.8118634,0.0,84.0,84.0,84.0,168.0,840.0,255.89212180000004,945.3018078000001,725.930324,588.0,504.0,420.0,336.0,191.709581,0.0,0.0,84.0,410.46312439999997,84.0,168.0,588.0,84.0,0.0,672.0,705.0747144000001,168.0,756.0,84.0,117.87333879999998,275.5168206,137.17773439999996,320.3263951999999,97.66125319999999,336.0,252.0,79.4025848,105.7565096,44.684417399999994,38.360761600000004,27.627006400000003,420.0,75.7340794,76.59531179999999,139.75108559999998,108.7244746,70.48963739999999,407.5617364,504.0,1062.585482,657.7557616,672.0,168.0,456.49422699999997,1092.0,1079.2462044,124.812282,756.0,420.0,488.4420324,447.21766180000003,1092.0,168.0,0.0,504.0,252.0,336.0,1092.0,252.0,336.0,603.8312266,336.0,459.3203524,0.0,0.0,84.0,84.0,840.0,0.0,252.0,114.02959539999999,672.0,336.0,0.0,504.0,336.0,0.0,672.0,336.0,252.0,672.0,1053.7460429999999,168.0,588.0,84.0,504.0,588.0,336.0,252.0,79.72842920000001,756.0,280.68630379999996,27.567516199999996,1146.8507189999998,6.8751788,756.0,245.29229899999999,252.0,99.55755180000001,168.0,113.1938668,252.0,252.0,32.8322624,595.9789892,895.8966002,252.0,720.1577487999999,252.0,17.2084024,168.0,0.0,588.0,336.0,230.51381780000003,420.0,168.0,109.45190479999998,377.8675908,504.0,0.0,672.0,168.0,203.20826820000002,0.0,504.0,672.0,252.0,588.0,588.0,84.0,145.37015920000002,252.0,84.0,252.0,393.51942840000004,336.0,252.0,373.84583599999996,672.0,148.4822374,420.0,84.0,84.0,265.2152552,336.0,65.82037980000001,336.0,588.0,84.0,931.0353430000001,504.0,108.757747,0.0,504.0,420.0,504.0,168.0,504.0,168.0,672.0,84.0,252.0,756.0,252.0,420.0,141.4286846,336.0,252.0,263.9734398,588.0,756.0,504.0,420.0,588.0,220.6594908,672.0,118.5847446,420.0,923.9999999999999,227.6616328,168.0,244.43352780000004,348.202799,504.0,168.0,137.1196596,776.7774168,168.0,84.0,84.0,336.0,0.0,336.0,268.19666440000003,0.0,840.0,0.0,216.674199,0.0,168.0,336.0,420.0],\"x\":[951599.638915042,945603.3032239726,952630.2347608053,948693.754927373,948779.4709352858,950023.1322864285,950401.8411941063,950064.4318175118,959491.0776173776,951079.4429345647,952033.0056927002,952028.5529130679,950981.370463176,949471.6555290391,951362.0831216903,950112.967115497,949991.5175510428,947289.570870509,947958.3783711939,953445.761350358,952822.1495629326,947393.5432749103,949836.7834588401,947769.9144732807,951678.11915605,952284.6990613848,949166.3061657924,949081.9259917716,947723.271606638,948264.0616929114,952636.1346938179,949203.8208341879,953855.0831180032,951582.9409914222,948839.9174187847,950594.7578716518,950862.3699275177,947991.7742184309,947748.4298115576,953352.0303391105,950859.3643012657,950887.0828544751,951117.9594783784,951381.1187546147,953392.2166752872,953465.2422612475,946772.1578773011,953309.728932609,945681.0042285448,958862.4564528666,950756.1711333002,952129.5196912172,953790.8517718165,948403.322375895,948255.4900921205,952578.5825170769,951381.1187546147,951661.4212324331,957399.273065881,949779.3426015903,956917.2596707465,952807.0101121843,948908.3789056242,951549.2111857116,947185.1531881428,951106.8275293004,948380.2792413003,947445.5294771096,957535.6394421038,952964.1932331857,952236.1637633968,950961.4442743246,959472.3759429241,960764.5725920519,953903.8410549709,946782.7332289257,953186.2756173182,953005.492764269,951237.6279309813,951807.0271263914,951519.7115206537,951722.758271859,952010.8531140325,952249.6334217851,952549.5281299811,952847.7530458171,959663.6228281069,953524.5755498398,959228.4749385946,958001.7341500543,957256.4501591922,946146.0970610798,957754.8275194757,946893.2734832844,952600.5124567649,953019.4077006193,947765.0164156862,951201.6717354574,951026.1208984762,948709.0056976125,947074.167655822,952860.1095092931,953087.3125900027,953018.6284641835,953190.6170774593,959378.5336121853,947372.9491691114,947022.9606900587,953052.3582698941,948894.2413302942,947010.9381850535,947276.3238511032,951621.2348962564,948761.8824557388,950421.7673829577,947041.4397255298,947162.6666510042,944921.693981844,945091.9014832686,949730.4733451314,949606.1294739165,948111.8879489987,951106.3822513383,951319.447756715,944984.4781746503,949502.491027989,951610.8821836113,950662.4401220527,953047.5715317909,951126.5310791694,951184.5285338726,950718.0998674514,949644.8686567128,948827.4496358176,947169.1231814703,949954.670799589,949483.9006730238,953160.4494954541,949060.552649537,948119.9029523364,950206.5868072561,950435.1257218547,950640.287543385,952653.6118538737,949959.1235792213,944774.974892979,949802.1630972025,950550.7866727874,954215.5356291924,950706.4113209171,955854.9377701064,949690.9549258994,952110.3727388015,949153.5044243515,951648.0628935361,953692.890619919,948266.6220412013,947099.7711387066,947654.5874808189,952691.4604807429,947556.4036899391,946554.8622312717,951657.8590087277,951573.478834707,952185.6247145779,951258.110717289,953089.205021348,947565.1979297125,948125.3576073841,953226.1279950212,952137.200736084,947428.2749560364,952926.121967334,947106.0050301902,948680.6192274613,950576.0561971982,947333.7647083531,949781.5689914065,948647.8912971661,955317.153310082,948296.1217062621,948367.9227778215,951799.3460815246,950684.3700617407,948439.1672519306,951909.1070994474,951601.3087074049,951170.8362365075,952434.4237765018,947833.3665830345,946717.0547293586,952397.3543860655,953454.8895486024,947353.4682582221,951035.2490967206,949038.9566683255,947235.9148759469,946922.8844678364,950518.7266594396,952369.301874388,953455.5574655469,953230.1354966915,953068.165637587,952271.8973199439,946156.7837321957,949169.6457505152,948760.7692608321,946590.261829345,956917.037031764,948554.4942443924,949589.2089113141,951840.2003346458,954141.8421262875,947331.6496380281,948916.8391869239,951373.549029242,952921.001270757,953356.5944382313,953618.0839221048,947091.9787743514,950570.7128616389,951686.0228398965,949783.3501032605,946334.1156810281,948117.7878820086,950261.022038254,948458.8708017996,949860.1605519057,951280.3746154478,951927.363495936,949735.928000182,948209.7377814049,950380.9131298364,953424.1653691437,948623.7349676648,949153.281785369,956336.5058872788,950816.617616802,951857.6774947015,950883.1866722961,949291.0953149722,949161.2967887067,950104.7294731797,949728.580913789,949001.5533194183,951486.6496318877,950468.7442080741,950241.3184883822,949937.7502369895,949868.7321526967,952249.8560607646,950016.4531169799,950937.3992643115,950530.9718034272,952075.5297381843,955855.160409086,949416.4410616054,947848.2833948003,950988.9401885488,947882.3471589817,950587.7447437325,950496.6854002633,950116.418019711,952813.4666426532,949473.325321399,949050.311256386,950724.2224394437,954785.0461440907,950236.3091112964,951028.9038857458,948487.1459524623,953213.5488925629,945716.4038266182,951612.4406564829,946591.0410657809,950524.6265924524,951139.5554595927,954469.4553876931,948360.1304134664,945570.2413352065,946516.1230484754,950168.7381803839,946729.5225123286,951756.8220360434,951600.1955124955],\"y\":[6005294.459504767,6004089.368540202,6001565.303519744,6000701.379492126,6001044.506597848,6003679.544268133,6004301.274851001,6003050.625809022,6010932.33484307,6004788.563942684,6002265.77458923,6004659.8341009095,6004315.248684297,6003240.808831261,6009266.6918595955,6002300.2901124945,6010307.002580693,6002669.121712618,6005766.841689348,6002838.421329097,6004172.2234553145,6005972.705120712,6002043.892363644,6000498.270419379,6004904.307348484,6003807.273220331,6001308.270141448,6001278.360102608,6007441.514902534,6006870.3728736965,6008306.11104611,6003059.666394102,6001059.954210343,6004846.599860624,6006392.175217332,6003868.261582134,6003920.702053052,6002925.537954135,6003777.683334168,6004112.876897937,6004132.111056238,6002846.80421155,6003752.860785356,6003805.300558112,5990345.593446799,5990508.415508234,6006250.431188584,6015909.950820702,6001855.707815509,6007068.204448893,6002022.197517468,5999822.424726454,5990636.607203674,6010036.055736185,6001521.916276815,6010893.342798281,6003805.300558112,6005289.033753854,6007446.613086128,6002788.452943032,6007162.435041538,6010986.298806421,6002912.881333499,6008209.071989628,6006585.062637212,6003803.327896341,6005567.231178748,6001346.7260572845,6007798.230534212,6001312.214330093,6001835.656951618,6003209.412729321,6010959.316782719,6011533.196476656,6008258.24927395,6001373.5138259465,6008307.097889559,5999459.629219093,6002200.195473605,6000672.457521355,6001924.242675831,6001591.59892416,6001118.951196452,6000704.501756105,6000240.611386773,5999766.229863665,6011222.724157667,6016274.094290212,6010338.424408562,6006906.551211672,6006966.574696494,6007940.822218764,6006860.012741097,6003007.231131897,6012232.499218641,6012633.513110236,6002726.157233518,6009501.26081944,6007609.921005648,6006096.685936375,6000914.353338576,5990601.153229097,5990535.99051464,5990878.059187792,5990656.960476738,6011395.810691474,6004028.214229925,6007242.523628295,6000262.959060852,6009370.816006672,6007548.906306984,6007431.318544347,6011642.613062038,6004047.612593448,6008580.128893508,6011095.050375967,6011009.167782559,6006148.317727573,6006305.6814855505,6001712.88750935,6001782.571691621,6005133.168177871,6009650.625009591,6009804.433337239,6006209.48699933,6006532.277162106,6002120.975248653,6003756.3129236465,5999411.651964067,6009506.689208569,6010694.107705805,6004993.253260351,6001708.121394707,6002919.949314171,6011050.463712568,5998970.667984063,6006464.528051525,6015900.402961108,6003363.2711533625,6005175.915841687,6009756.398785522,6009960.382964488,6002377.210915861,6000926.349706238,6002574.446863697,6005978.624588832,6000399.182525666,6011271.424961982,6000708.774329684,6002155.983267096,6000758.895061589,6009809.532911451,6000132.981851354,6005717.678542131,6008833.594894202,6009385.784983784,6001467.025151797,6001820.207956974,6010192.832081817,6002141.026772437,6006996.997717443,6001854.228651833,6003776.368230464,6002078.571359296,6011798.760327276,6010371.985020746,6010600.496763317,6006553.161096682,6006329.524728468,6001494.799360245,6008586.87253923,6003653.406915303,6002363.897651054,6001738.6903134305,6000608.369407138,6003899.495680209,6011222.888686952,6003160.921591133,6001438.100626926,6007873.719957251,6009857.074247742,6009928.46899373,6005341.811656952,6006904.742291186,6004372.952634498,6005390.643834861,6004370.157847432,6004263.792209424,6009371.309489019,6004706.689569135,6006650.510495194,6009979.959118129,6001104.160827966,6000431.554399573,6002689.503238958,6003722.942311055,6005115.575931313,6002581.021472576,6010879.687397935,6004258.53150077,6002184.745829345,6001981.10894243,6003231.274924409,6002590.554664304,6003808.259551614,6001867.04807873,6010387.778295,6003271.547533375,6007152.074559748,6003433.790510385,6004070.134476748,6003124.594509402,6001224.292217321,6007167.20415637,6003418.503048623,6005782.790997691,6003762.724041271,6002682.928547806,6001697.603082006,6003961.142256696,6005629.876156987,6002749.826263031,6006896.684377243,6003292.752370019,6000826.106596184,6006786.505489316,6006990.58420684,6006059.853254217,6006078.4340073485,6010019.276064553,6005078.089768034,6003556.913094018,6003646.502722052,5990519.248536018,6001929.337615143,6008901.198045785,6007386.915188903,6009921.066285353,6009369.171065707,6007197.792334577,6004256.065544686,6009905.767374751,6004670.684818383,6001152.640463296,6009558.670319118,6003133.9639231535,6010358.001416533,6005690.71292096,6006336.924368919,6009333.640417154,6010502.938456895,6005639.083855999,6005175.09376924,6002573.78940308,6003501.187168636,6007646.924738399,6005430.104381647,6001486.089095947,6002963.672299454,6007100.601238631,6009061.572595718,6003181.961780495,6001590.612845057,6009361.43984737,6004639.612345503,6006677.643546084,6005745.959649604,6008096.080423882,6006175.942506514,6003393.352766965,6000683.467578403,6009388.252400073,6003398.777331343,6008610.722060122,6005401.002211002,6006233.987715838,6005602.581963821,6001460.45138767,6002703.145739005,6003051.776428418,6001819.221851867,6001014.761804492,6007566.0101144845,6011206.929361019,6010877.713124968]},\"selected\":null,\"selection_policy\":null},\"id\":\"e433685e-da90-42a2-a9d5-d76639219f7b\",\"type\":\"ColumnDataSource\"},{\"attributes\":{\"bottom_units\":\"screen\",\"fill_alpha\":{\"value\":0.5},\"fill_color\":{\"value\":\"lightgrey\"},\"left_units\":\"screen\",\"level\":\"overlay\",\"line_alpha\":{\"value\":1.0},\"line_color\":{\"value\":\"black\"},\"line_dash\":[4,4],\"line_width\":{\"value\":2},\"plot\":null,\"render_mode\":\"css\",\"right_units\":\"screen\",\"top_units\":\"screen\"},\"id\":\"a3276c39-5371-4c5d-865a-065992449a49\",\"type\":\"BoxAnnotation\"},{\"attributes\":{\"callback\":null,\"column_names\":[\"x\",\"y\"],\"data\":{\"x\":[950689.8247167885],\"y\":[6004022.131701146]},\"selected\":null,\"selection_policy\":null},\"id\":\"72170d0a-b857-4491-80bd-185979fba4a9\",\"type\":\"ColumnDataSource\"},{\"attributes\":{\"dimension\":\"lon\"},\"id\":\"eeeb8207-dd02-4ac4-b4f3-369aaaca4844\",\"type\":\"MercatorTicker\"},{\"attributes\":{\"fill_alpha\":{\"value\":0.2},\"fill_color\":{\"value\":\"#0000FF\"},\"line_color\":{\"value\":\"#1f77b4\"},\"line_width\":{\"value\":0.01},\"radius\":{\"field\":\"rad\",\"units\":\"data\"},\"x\":{\"field\":\"x\"},\"y\":{\"field\":\"y\"}},\"id\":\"f7b8843d-5c8f-489f-ad1d-09036e33eace\",\"type\":\"Circle\"},{\"attributes\":{\"below\":[{\"id\":\"e1d734e5-40d7-44d1-98ba-6f9adb23afd1\",\"type\":\"MercatorAxis\"}],\"left\":[{\"id\":\"39e13159-5735-45e0-9794-36d116c93f9a\",\"type\":\"MercatorAxis\"}],\"plot_width\":900,\"renderers\":[{\"id\":\"e1d734e5-40d7-44d1-98ba-6f9adb23afd1\",\"type\":\"MercatorAxis\"},{\"id\":\"f946f3d4-6df0-4fa4-993f-526c2ba232a9\",\"type\":\"Grid\"},{\"id\":\"39e13159-5735-45e0-9794-36d116c93f9a\",\"type\":\"MercatorAxis\"},{\"id\":\"eb9b06b8-6d7c-4727-b83c-ba188706a308\",\"type\":\"Grid\"},{\"id\":\"a3276c39-5371-4c5d-865a-065992449a49\",\"type\":\"BoxAnnotation\"},{\"id\":\"62177fcb-8ef5-49f2-81c8-1fc426d15f86\",\"type\":\"TileRenderer\"},{\"id\":\"0b7d07b9-0cf9-47bf-b576-0d2a2c81fdda\",\"type\":\"GlyphRenderer\"},{\"id\":\"bd7eadd2-13bd-4aad-a382-3a29e68f71b6\",\"type\":\"GlyphRenderer\"}],\"title\":{\"id\":\"4a46ebe8-8163-4b00-892e-2f311905f488\",\"type\":\"Title\"},\"toolbar\":{\"id\":\"a5dc0787-10a2-4528-bc90-e03fc3ed6e98\",\"type\":\"Toolbar\"},\"x_range\":{\"id\":\"c6b44df1-1687-4899-ba78-9474d4dc05a3\",\"type\":\"Range1d\"},\"x_scale\":{\"id\":\"6c9e6189-ab9d-43a1-9d77-41e44718a837\",\"type\":\"LinearScale\"},\"y_range\":{\"id\":\"35aebf45-3394-4fff-9e8c-94c572d0e896\",\"type\":\"Range1d\"},\"y_scale\":{\"id\":\"93dd45bc-0198-40ec-bb52-1ec2b65c7f60\",\"type\":\"LinearScale\"}},\"id\":\"29da4907-9475-47bf-b10e-aea0a9dc1179\",\"subtype\":\"Figure\",\"type\":\"Plot\"},{\"attributes\":{\"fill_alpha\":{\"value\":0.1},\"fill_color\":{\"value\":\"#1f77b4\"},\"line_alpha\":{\"value\":0.1},\"line_color\":{\"value\":\"#1f77b4\"},\"line_width\":{\"value\":0.01},\"radius\":{\"field\":\"rad\",\"units\":\"data\"},\"x\":{\"field\":\"x\"},\"y\":{\"field\":\"y\"}},\"id\":\"9dc7f815-294b-482a-abb1-3b49dcc57cd4\",\"type\":\"Circle\"},{\"attributes\":{\"dimension\":\"lat\"},\"id\":\"29e438a9-2b8e-473b-9eb5-2365fae2787e\",\"type\":\"MercatorTickFormatter\"},{\"attributes\":{\"dimension\":\"lat\"},\"id\":\"d6c0633a-f9f6-4d3a-8556-67ed91622d61\",\"type\":\"MercatorTicker\"},{\"attributes\":{\"formatter\":{\"id\":\"29e438a9-2b8e-473b-9eb5-2365fae2787e\",\"type\":\"MercatorTickFormatter\"},\"plot\":{\"id\":\"29da4907-9475-47bf-b10e-aea0a9dc1179\",\"subtype\":\"Figure\",\"type\":\"Plot\"},\"ticker\":{\"id\":\"d6c0633a-f9f6-4d3a-8556-67ed91622d61\",\"type\":\"MercatorTicker\"}},\"id\":\"39e13159-5735-45e0-9794-36d116c93f9a\",\"type\":\"MercatorAxis\"},{\"attributes\":{\"dimension\":1,\"plot\":{\"id\":\"29da4907-9475-47bf-b10e-aea0a9dc1179\",\"subtype\":\"Figure\",\"type\":\"Plot\"},\"ticker\":{\"id\":\"d6c0633a-f9f6-4d3a-8556-67ed91622d61\",\"type\":\"MercatorTicker\"}},\"id\":\"eb9b06b8-6d7c-4727-b83c-ba188706a308\",\"type\":\"Grid\"},{\"attributes\":{\"plot\":{\"id\":\"29da4907-9475-47bf-b10e-aea0a9dc1179\",\"subtype\":\"Figure\",\"type\":\"Plot\"},\"ticker\":{\"id\":\"eeeb8207-dd02-4ac4-b4f3-369aaaca4844\",\"type\":\"MercatorTicker\"}},\"id\":\"f946f3d4-6df0-4fa4-993f-526c2ba232a9\",\"type\":\"Grid\"}],\"root_ids\":[\"29da4907-9475-47bf-b10e-aea0a9dc1179\"]},\"title\":\"Bokeh Application\",\"version\":\"0.12.15\"}};\n",
       "  var render_items = [{\"docid\":\"de0b6e05-0de2-4e3f-8f80-320420df6ad2\",\"elementid\":\"2ea6142b-bfaa-41d9-9c11-06dabe660e58\",\"modelid\":\"29da4907-9475-47bf-b10e-aea0a9dc1179\"}];\n",
       "  root.Bokeh.embed.embed_items_notebook(docs_json, render_items);\n",
       "\n",
       "  }\n",
       "  if (root.Bokeh !== undefined) {\n",
       "    embed_document(root);\n",
       "  } else {\n",
       "    var attempts = 0;\n",
       "    var timer = setInterval(function(root) {\n",
       "      if (root.Bokeh !== undefined) {\n",
       "        embed_document(root);\n",
       "        clearInterval(timer);\n",
       "      }\n",
       "      attempts++;\n",
       "      if (attempts > 100) {\n",
       "        console.log(\"Bokeh: ERROR: Unable to run BokehJS code because BokehJS library is missing\")\n",
       "        clearInterval(timer);\n",
       "      }\n",
       "    }, 10, root)\n",
       "  }\n",
       "})(window);"
      ],
      "application/vnd.bokehjs_exec.v0+json": ""
     },
     "metadata": {
      "application/vnd.bokehjs_exec.v0+json": {
       "id": "29da4907-9475-47bf-b10e-aea0a9dc1179"
      }
     },
     "output_type": "display_data"
    }
   ],
   "source": [
    "def compute_all_path(regenerate):\n",
    "    \"\"\"\n",
    "    Generates all shortest path for all the reachable stations\n",
    "    \"\"\"\n",
    "    all_paths = []\n",
    "    date = datetime(2018, 1, 15, 14)\n",
    "    if regenerate:\n",
    "        \n",
    "        for destination in list(reachable_stations.keys()):\n",
    "            if destination != ZH_HB_ID:\n",
    "                all_paths.append(helpers.shortest_path(models, walking_network, reachable_stations, ZH_HB_ID, destination, date))\n",
    "            \n",
    "        pickle.dump(all_paths, open('./data/all_paths.pickle', 'wb'))\n",
    "        \n",
    "    else:\n",
    "        all_paths = pickle.load(open('./data/all_paths.pickle', 'rb'))        \n",
    "    return all_paths\n",
    "\n",
    "# We can draw the isochrnous map for 15 minutes\n",
    "helpers.isoch(15, compute_all_path(False), pandas_df)"
   ]
  },
  {
   "cell_type": "markdown",
   "metadata": {},
   "source": [
    "## Web Visualization\n",
    "\n",
    "We also implemented a web interface that allows users to query our robust route planning algorithm. The server and font-end code can be found on the gitlab repository. One just needs to install flask and the required dependencies to run it.\n",
    "\n",
    "Here are a few screenshots that illustrate how it works:\n",
    "\n",
    "\n",
    "![](images/webviz1.png)\n",
    "![](images/webviz2.png)\n",
    "![](images/webviz3.png)"
   ]
  }
 ],
 "metadata": {
  "kernelspec": {
   "display_name": "Python 3",
   "language": "python",
   "name": "python3"
  },
  "language_info": {
   "codemirror_mode": {
    "name": "ipython",
    "version": 3
   },
   "file_extension": ".py",
   "mimetype": "text/x-python",
   "name": "python",
   "nbconvert_exporter": "python",
   "pygments_lexer": "ipython3",
   "version": "3.6.3"
  }
 },
 "nbformat": 4,
 "nbformat_minor": 2
}
